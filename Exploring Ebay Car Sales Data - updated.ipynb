{
 "cells": [
  {
   "cell_type": "markdown",
   "metadata": {
    "collapsed": true
   },
   "source": [
    "# Exploring Ebay Car Sales Data\n",
    "\n",
    "## 1. Introduction\n",
    "\n",
    "In this project, we will handle a dataset comprised of information about used cars, announced on the classifieds section of the German eBay website, *eBay Kleinanzeigen*.\n",
    "The original dataset, scraped and uploaded to Kaggle by user orgesleka, is no longer available, but you can now find it [here](https://data.world/data-society/used-cars-data).\n",
    "\n",
    "The data dictionary for this dataset is the following:\n",
    "- `dateCrawled`: When this ad was first crawled. All field-values are taken from this date.\n",
    "- `name`: Name of the car.\n",
    "- `seller`: Whether the seller is private or a dealer.\n",
    "- `offerType`: The type of listing\n",
    "- `price`: The price on the ad to sell the car.\n",
    "- `abtest`: Whether the listing is included in an A/B test.\n",
    "- `vehicleType`: The vehicle Type.\n",
    "- `yearOfRegistration`: The year in which the car was first registered.\n",
    "- `gearbox`: The transmission type.\n",
    "- `powerPS`: The power of the car in PS.\n",
    "- `model`: The car model name.\n",
    "- `kilometer`: How many kilometers the car has driven.\n",
    "- `monthOfRegistration`: The month in which the car was first registered.\n",
    "- `fuelType`: What type of fuel the car uses.\n",
    "- `brand`: The brand of the car.\n",
    "- `notRepairedDamage`: If the car has a damage which is not yet repaired.\n",
    "- `dateCreated`: The date on which the eBay listing was created.\n",
    "- `nrOfPictures`: The number of pictures in the ad.\n",
    "- `postalCode`: The postal code for the location of the vehicle.\n",
    "- `lastSeenOnline`: When the crawler saw this ad last online.\n",
    "\n",
    "\n",
    "## 2. Aim of the project\n",
    "Clean the data and analyze the used car listing."
   ]
  },
  {
   "cell_type": "code",
   "execution_count": 1,
   "metadata": {},
   "outputs": [
    {
     "ename": "FileNotFoundError",
     "evalue": "[Errno 2] No such file or directory: 'autos.csv'",
     "output_type": "error",
     "traceback": [
      "\u001b[0;31m---------------------------------------------------------------------------\u001b[0m",
      "\u001b[0;31mFileNotFoundError\u001b[0m                         Traceback (most recent call last)",
      "\u001b[0;32m<ipython-input-1-aeba292a86a2>\u001b[0m in \u001b[0;36m<module>\u001b[0;34m\u001b[0m\n\u001b[1;32m      5\u001b[0m \u001b[0;34m\u001b[0m\u001b[0m\n\u001b[1;32m      6\u001b[0m \u001b[0;31m# read the autos.csv file into pandas, and assign it to the variable name autos\u001b[0m\u001b[0;34m\u001b[0m\u001b[0;34m\u001b[0m\u001b[0;34m\u001b[0m\u001b[0m\n\u001b[0;32m----> 7\u001b[0;31m \u001b[0mautos\u001b[0m\u001b[0;34m=\u001b[0m\u001b[0mpd\u001b[0m\u001b[0;34m.\u001b[0m\u001b[0mread_csv\u001b[0m\u001b[0;34m(\u001b[0m\u001b[0;34m'autos.csv'\u001b[0m\u001b[0;34m,\u001b[0m\u001b[0mencoding\u001b[0m\u001b[0;34m=\u001b[0m\u001b[0;34m'Latin-1'\u001b[0m\u001b[0;34m)\u001b[0m\u001b[0;34m\u001b[0m\u001b[0;34m\u001b[0m\u001b[0m\n\u001b[0m",
      "\u001b[0;32m~/opt/anaconda3/lib/python3.8/site-packages/pandas/io/parsers.py\u001b[0m in \u001b[0;36mread_csv\u001b[0;34m(filepath_or_buffer, sep, delimiter, header, names, index_col, usecols, squeeze, prefix, mangle_dupe_cols, dtype, engine, converters, true_values, false_values, skipinitialspace, skiprows, skipfooter, nrows, na_values, keep_default_na, na_filter, verbose, skip_blank_lines, parse_dates, infer_datetime_format, keep_date_col, date_parser, dayfirst, cache_dates, iterator, chunksize, compression, thousands, decimal, lineterminator, quotechar, quoting, doublequote, escapechar, comment, encoding, dialect, error_bad_lines, warn_bad_lines, delim_whitespace, low_memory, memory_map, float_precision)\u001b[0m\n\u001b[1;32m    684\u001b[0m     )\n\u001b[1;32m    685\u001b[0m \u001b[0;34m\u001b[0m\u001b[0m\n\u001b[0;32m--> 686\u001b[0;31m     \u001b[0;32mreturn\u001b[0m \u001b[0m_read\u001b[0m\u001b[0;34m(\u001b[0m\u001b[0mfilepath_or_buffer\u001b[0m\u001b[0;34m,\u001b[0m \u001b[0mkwds\u001b[0m\u001b[0;34m)\u001b[0m\u001b[0;34m\u001b[0m\u001b[0;34m\u001b[0m\u001b[0m\n\u001b[0m\u001b[1;32m    687\u001b[0m \u001b[0;34m\u001b[0m\u001b[0m\n\u001b[1;32m    688\u001b[0m \u001b[0;34m\u001b[0m\u001b[0m\n",
      "\u001b[0;32m~/opt/anaconda3/lib/python3.8/site-packages/pandas/io/parsers.py\u001b[0m in \u001b[0;36m_read\u001b[0;34m(filepath_or_buffer, kwds)\u001b[0m\n\u001b[1;32m    450\u001b[0m \u001b[0;34m\u001b[0m\u001b[0m\n\u001b[1;32m    451\u001b[0m     \u001b[0;31m# Create the parser.\u001b[0m\u001b[0;34m\u001b[0m\u001b[0;34m\u001b[0m\u001b[0;34m\u001b[0m\u001b[0m\n\u001b[0;32m--> 452\u001b[0;31m     \u001b[0mparser\u001b[0m \u001b[0;34m=\u001b[0m \u001b[0mTextFileReader\u001b[0m\u001b[0;34m(\u001b[0m\u001b[0mfp_or_buf\u001b[0m\u001b[0;34m,\u001b[0m \u001b[0;34m**\u001b[0m\u001b[0mkwds\u001b[0m\u001b[0;34m)\u001b[0m\u001b[0;34m\u001b[0m\u001b[0;34m\u001b[0m\u001b[0m\n\u001b[0m\u001b[1;32m    453\u001b[0m \u001b[0;34m\u001b[0m\u001b[0m\n\u001b[1;32m    454\u001b[0m     \u001b[0;32mif\u001b[0m \u001b[0mchunksize\u001b[0m \u001b[0;32mor\u001b[0m \u001b[0miterator\u001b[0m\u001b[0;34m:\u001b[0m\u001b[0;34m\u001b[0m\u001b[0;34m\u001b[0m\u001b[0m\n",
      "\u001b[0;32m~/opt/anaconda3/lib/python3.8/site-packages/pandas/io/parsers.py\u001b[0m in \u001b[0;36m__init__\u001b[0;34m(self, f, engine, **kwds)\u001b[0m\n\u001b[1;32m    944\u001b[0m             \u001b[0mself\u001b[0m\u001b[0;34m.\u001b[0m\u001b[0moptions\u001b[0m\u001b[0;34m[\u001b[0m\u001b[0;34m\"has_index_names\"\u001b[0m\u001b[0;34m]\u001b[0m \u001b[0;34m=\u001b[0m \u001b[0mkwds\u001b[0m\u001b[0;34m[\u001b[0m\u001b[0;34m\"has_index_names\"\u001b[0m\u001b[0;34m]\u001b[0m\u001b[0;34m\u001b[0m\u001b[0;34m\u001b[0m\u001b[0m\n\u001b[1;32m    945\u001b[0m \u001b[0;34m\u001b[0m\u001b[0m\n\u001b[0;32m--> 946\u001b[0;31m         \u001b[0mself\u001b[0m\u001b[0;34m.\u001b[0m\u001b[0m_make_engine\u001b[0m\u001b[0;34m(\u001b[0m\u001b[0mself\u001b[0m\u001b[0;34m.\u001b[0m\u001b[0mengine\u001b[0m\u001b[0;34m)\u001b[0m\u001b[0;34m\u001b[0m\u001b[0;34m\u001b[0m\u001b[0m\n\u001b[0m\u001b[1;32m    947\u001b[0m \u001b[0;34m\u001b[0m\u001b[0m\n\u001b[1;32m    948\u001b[0m     \u001b[0;32mdef\u001b[0m \u001b[0mclose\u001b[0m\u001b[0;34m(\u001b[0m\u001b[0mself\u001b[0m\u001b[0;34m)\u001b[0m\u001b[0;34m:\u001b[0m\u001b[0;34m\u001b[0m\u001b[0;34m\u001b[0m\u001b[0m\n",
      "\u001b[0;32m~/opt/anaconda3/lib/python3.8/site-packages/pandas/io/parsers.py\u001b[0m in \u001b[0;36m_make_engine\u001b[0;34m(self, engine)\u001b[0m\n\u001b[1;32m   1176\u001b[0m     \u001b[0;32mdef\u001b[0m \u001b[0m_make_engine\u001b[0m\u001b[0;34m(\u001b[0m\u001b[0mself\u001b[0m\u001b[0;34m,\u001b[0m \u001b[0mengine\u001b[0m\u001b[0;34m=\u001b[0m\u001b[0;34m\"c\"\u001b[0m\u001b[0;34m)\u001b[0m\u001b[0;34m:\u001b[0m\u001b[0;34m\u001b[0m\u001b[0;34m\u001b[0m\u001b[0m\n\u001b[1;32m   1177\u001b[0m         \u001b[0;32mif\u001b[0m \u001b[0mengine\u001b[0m \u001b[0;34m==\u001b[0m \u001b[0;34m\"c\"\u001b[0m\u001b[0;34m:\u001b[0m\u001b[0;34m\u001b[0m\u001b[0;34m\u001b[0m\u001b[0m\n\u001b[0;32m-> 1178\u001b[0;31m             \u001b[0mself\u001b[0m\u001b[0;34m.\u001b[0m\u001b[0m_engine\u001b[0m \u001b[0;34m=\u001b[0m \u001b[0mCParserWrapper\u001b[0m\u001b[0;34m(\u001b[0m\u001b[0mself\u001b[0m\u001b[0;34m.\u001b[0m\u001b[0mf\u001b[0m\u001b[0;34m,\u001b[0m \u001b[0;34m**\u001b[0m\u001b[0mself\u001b[0m\u001b[0;34m.\u001b[0m\u001b[0moptions\u001b[0m\u001b[0;34m)\u001b[0m\u001b[0;34m\u001b[0m\u001b[0;34m\u001b[0m\u001b[0m\n\u001b[0m\u001b[1;32m   1179\u001b[0m         \u001b[0;32melse\u001b[0m\u001b[0;34m:\u001b[0m\u001b[0;34m\u001b[0m\u001b[0;34m\u001b[0m\u001b[0m\n\u001b[1;32m   1180\u001b[0m             \u001b[0;32mif\u001b[0m \u001b[0mengine\u001b[0m \u001b[0;34m==\u001b[0m \u001b[0;34m\"python\"\u001b[0m\u001b[0;34m:\u001b[0m\u001b[0;34m\u001b[0m\u001b[0;34m\u001b[0m\u001b[0m\n",
      "\u001b[0;32m~/opt/anaconda3/lib/python3.8/site-packages/pandas/io/parsers.py\u001b[0m in \u001b[0;36m__init__\u001b[0;34m(self, src, **kwds)\u001b[0m\n\u001b[1;32m   1989\u001b[0m         \u001b[0;32mif\u001b[0m \u001b[0mkwds\u001b[0m\u001b[0;34m.\u001b[0m\u001b[0mget\u001b[0m\u001b[0;34m(\u001b[0m\u001b[0;34m\"compression\"\u001b[0m\u001b[0;34m)\u001b[0m \u001b[0;32mis\u001b[0m \u001b[0;32mNone\u001b[0m \u001b[0;32mand\u001b[0m \u001b[0mencoding\u001b[0m\u001b[0;34m:\u001b[0m\u001b[0;34m\u001b[0m\u001b[0;34m\u001b[0m\u001b[0m\n\u001b[1;32m   1990\u001b[0m             \u001b[0;32mif\u001b[0m \u001b[0misinstance\u001b[0m\u001b[0;34m(\u001b[0m\u001b[0msrc\u001b[0m\u001b[0;34m,\u001b[0m \u001b[0mstr\u001b[0m\u001b[0;34m)\u001b[0m\u001b[0;34m:\u001b[0m\u001b[0;34m\u001b[0m\u001b[0;34m\u001b[0m\u001b[0m\n\u001b[0;32m-> 1991\u001b[0;31m                 \u001b[0msrc\u001b[0m \u001b[0;34m=\u001b[0m \u001b[0mopen\u001b[0m\u001b[0;34m(\u001b[0m\u001b[0msrc\u001b[0m\u001b[0;34m,\u001b[0m \u001b[0;34m\"rb\"\u001b[0m\u001b[0;34m)\u001b[0m\u001b[0;34m\u001b[0m\u001b[0;34m\u001b[0m\u001b[0m\n\u001b[0m\u001b[1;32m   1992\u001b[0m                 \u001b[0mself\u001b[0m\u001b[0;34m.\u001b[0m\u001b[0mhandles\u001b[0m\u001b[0;34m.\u001b[0m\u001b[0mappend\u001b[0m\u001b[0;34m(\u001b[0m\u001b[0msrc\u001b[0m\u001b[0;34m)\u001b[0m\u001b[0;34m\u001b[0m\u001b[0;34m\u001b[0m\u001b[0m\n\u001b[1;32m   1993\u001b[0m \u001b[0;34m\u001b[0m\u001b[0m\n",
      "\u001b[0;31mFileNotFoundError\u001b[0m: [Errno 2] No such file or directory: 'autos.csv'"
     ]
    }
   ],
   "source": [
    "# import the pandas and NumPy libraries\n",
    "\n",
    "import pandas as pd\n",
    "import numpy as np\n",
    "\n",
    "# read the autos.csv file into pandas, and assign it to the variable name autos\n",
    "autos=pd.read_csv('autos.csv',encoding='Latin-1')"
   ]
  },
  {
   "cell_type": "code",
   "execution_count": null,
   "metadata": {
    "scrolled": true
   },
   "outputs": [],
   "source": [
    "autos"
   ]
  },
  {
   "cell_type": "code",
   "execution_count": null,
   "metadata": {
    "scrolled": true
   },
   "outputs": [],
   "source": [
    "autos.info()\n",
    "autos.head()"
   ]
  },
  {
   "cell_type": "markdown",
   "metadata": {},
   "source": [
    "### Observations\n",
    "\n",
    "Right away, we can see that the following columns have missing (null) values:\n",
    "- `vehicleType`\n",
    "- `gearbox`\n",
    "- `model`\n",
    "- `fuelType`\n",
    "- `notRepairedDamage`\n",
    "\n",
    "We can also observe the columns `price` and `odometer ` are objects, which we will probably have to modify into a float type.\n",
    "\n",
    "We can see that the names of the columns have lower- and uppercase letters and no spaces between them. This is known as [camelcase](https://en.wikipedia.org/wiki/Camel_case#:~:text=Camel%20case%20(sometimes%20stylized%20as,word%20starting%20with%20either%20case.). It will be easier for us to handle column names in the future if we convert them into [snakecase](https://en.wikipedia.org/wiki/Snake_case). It will also be helpful to rename some columns with a more descriptive title of its content (e.g. convert `price` into `price_dollars`).\n",
    "\n",
    "## 3. Column Renaming"
   ]
  },
  {
   "cell_type": "code",
   "execution_count": null,
   "metadata": {},
   "outputs": [],
   "source": [
    "# print an array of the existing column names\n",
    "\n",
    "autos.columns"
   ]
  },
  {
   "cell_type": "code",
   "execution_count": null,
   "metadata": {},
   "outputs": [],
   "source": [
    "# rename columns into snakecase\n",
    "\n",
    "autos.rename(columns={'dateCrawled':'date_crawled', 'offerType':'offer_type', 'price':'price_dollars', 'abtest':'ab_test',\n",
    "       'vehicleType':'vehicle_type', 'yearOfRegistration':'registration_year','powerPS':'power_ps', 'odometer':'odometer_km', 'monthOfRegistration':'registration_month', 'fuelType':'fuel_type',\n",
    "       'notRepairedDamage':'unrepaired_damage', 'dateCreated':'ad_created', 'nrOfPictures':'nr_of_pictures', 'postalCode':'postal_code',\n",
    "       'lastSeen':'last_seen'}, inplace=True)"
   ]
  },
  {
   "cell_type": "code",
   "execution_count": null,
   "metadata": {},
   "outputs": [],
   "source": [
    "autos.head()"
   ]
  },
  {
   "cell_type": "markdown",
   "metadata": {},
   "source": [
    "Now that we have converted the column names into a more managable and informative format, we will do some basic data exploration to determine what other cleaning tasks need to be done. We will start by: \n",
    "\n",
    "- Dropping any text columns where all or almost all values are the same, as they don't have useful information for analysis.\n",
    "- Finding examples of numeric data stored as text, which can be cleaned and converted. Our initial analysis has already detected `price_dollars` and `odometer_km` as such examples."
   ]
  },
  {
   "cell_type": "code",
   "execution_count": null,
   "metadata": {},
   "outputs": [],
   "source": [
    "# view min/max/median/mean etc.\n",
    "\n",
    "autos.describe(include='all')"
   ]
  },
  {
   "cell_type": "markdown",
   "metadata": {},
   "source": [
    "From the table above, we can conclude:\n",
    "- The `seller` and `offer_type` columns have only 2 unique values. Furthermore, the top value has a frequency of 49999, meaning that all but one row present this value.  Therefore, those columns contain virtually no useful information for analysis.\n",
    "- The columns `price_dollars` and `odometer_km` are numeric data stored as text and need to be converted.\n",
    "- The `nr_of_pictures` column is irrelevant to us, as all rows present only the 0.0 value.\n"
   ]
  },
  {
   "cell_type": "markdown",
   "metadata": {},
   "source": [
    "\n",
    "## 4. Deleting irrelevant columns:\n",
    "### 4.1 `seller`, `offer_type` and `nr_of_pictures`"
   ]
  },
  {
   "cell_type": "code",
   "execution_count": null,
   "metadata": {},
   "outputs": [],
   "source": [
    "# look up the number of initil rows in the dataframe\n",
    "\n",
    "print('Number of columns:',autos.shape[1])\n",
    "\n",
    "# drop the columns\n",
    "\n",
    "autos.drop(columns=['seller','offer_type','nr_of_pictures'], \n",
    "           inplace=True)\n",
    "print('Updated number of columns:',autos.shape[1])"
   ]
  },
  {
   "cell_type": "markdown",
   "metadata": {},
   "source": [
    "\n",
    "## 5. Text to numberic dtype conversion:\n",
    "### 5.1 `price_dollars`"
   ]
  },
  {
   "cell_type": "code",
   "execution_count": null,
   "metadata": {},
   "outputs": [],
   "source": [
    "# view min/max/median/mean etc.\n",
    "\n",
    "autos['price_dollars'].describe()"
   ]
  },
  {
   "cell_type": "code",
   "execution_count": null,
   "metadata": {},
   "outputs": [],
   "source": [
    "# Remove any non-numeric characters.\n",
    "\n",
    "autos['price_dollars'] = autos['price_dollars'].str.replace(',','').str.replace('$','')                                                                                 "
   ]
  },
  {
   "cell_type": "code",
   "execution_count": null,
   "metadata": {},
   "outputs": [],
   "source": [
    "# Convert the column to a numeric dtype.\n",
    "\n",
    "autos['price_dollars']=autos['price_dollars'].astype('int')"
   ]
  },
  {
   "cell_type": "code",
   "execution_count": null,
   "metadata": {},
   "outputs": [],
   "source": [
    "autos['price_dollars']"
   ]
  },
  {
   "cell_type": "markdown",
   "metadata": {},
   "source": [
    "### 5.2 `odometer_km`"
   ]
  },
  {
   "cell_type": "code",
   "execution_count": null,
   "metadata": {},
   "outputs": [],
   "source": [
    "# view min/max/median/mean etc.\n",
    "\n",
    "autos['odometer_km'].describe()"
   ]
  },
  {
   "cell_type": "code",
   "execution_count": null,
   "metadata": {},
   "outputs": [],
   "source": [
    "# Remove any non-numeric characters.\n",
    "\n",
    "autos['odometer_km'] = autos['odometer_km'].str.replace(',','').str.replace('km','')                                                                                 \n"
   ]
  },
  {
   "cell_type": "code",
   "execution_count": null,
   "metadata": {},
   "outputs": [],
   "source": [
    "# Convert the column to a numeric dtype.\n",
    "\n",
    "autos['odometer_km'] = autos['odometer_km'].astype('int')"
   ]
  },
  {
   "cell_type": "code",
   "execution_count": null,
   "metadata": {},
   "outputs": [],
   "source": [
    "autos['odometer_km']"
   ]
  },
  {
   "cell_type": "markdown",
   "metadata": {},
   "source": [
    "## 6. Data exploration:\n",
    "\n",
    "### 6.1 `price_dollars`"
   ]
  },
  {
   "cell_type": "code",
   "execution_count": null,
   "metadata": {},
   "outputs": [],
   "source": [
    "# See how many unique values are in the column\n",
    "\n",
    "autos['price_dollars'].unique().shape"
   ]
  },
  {
   "cell_type": "code",
   "execution_count": null,
   "metadata": {},
   "outputs": [],
   "source": [
    "# view min/max/median/mean etc.\n",
    "\n",
    "autos['price_dollars'].describe()"
   ]
  },
  {
   "cell_type": "markdown",
   "metadata": {},
   "source": [
    "### Observations\n",
    "\n",
    "From this, we can already tell that there are some problems with the values in `price_dollars`:\n",
    "- The min value is 0 dollars, which is unusual.\n",
    "- The max value is 1e+8 dollars, which is clearly incorrect.\n",
    "- The mean is 9840.0 dollars standard deviation is 481104.4 dollars, which is likely caused by the outlier discussed above."
   ]
  },
  {
   "cell_type": "code",
   "execution_count": null,
   "metadata": {},
   "outputs": [],
   "source": [
    "# calculate the counts for each value. \n",
    "\n",
    "autos['price_dollars'].value_counts()"
   ]
  },
  {
   "cell_type": "markdown",
   "metadata": {},
   "source": [
    "We can see that there are 1421 entries with a price of 0 dollars."
   ]
  },
  {
   "cell_type": "code",
   "execution_count": null,
   "metadata": {},
   "outputs": [],
   "source": [
    "# calculate the values with their respective counts in ascending order\n",
    "\n",
    "autos['price_dollars'].value_counts().sort_index(ascending= True)"
   ]
  },
  {
   "cell_type": "markdown",
   "metadata": {},
   "source": [
    "There are an additional 156 entries with a set price of 1 dollar. This could be because sellers do not wish to set a price upfront and prefer to negotiate the price of the car in private. We will remove these entries from our analysis. \n",
    "\n",
    "Other values that stand out are prices equal and superior to 999990 dollars. In total, there are 14 entries in this range.\n",
    "Given that we are working with a dataset of used cars, these prices are unreasonably high and drive our mean and standard deviation up. Therefore, we will consider them outliers and remove them from our analysis."
   ]
  },
  {
   "cell_type": "code",
   "execution_count": null,
   "metadata": {},
   "outputs": [],
   "source": [
    "# remove outliers\n",
    "\n",
    "cleaned_prices_autos=autos[autos[\"price_dollars\"].between(2,999989)]"
   ]
  },
  {
   "cell_type": "code",
   "execution_count": null,
   "metadata": {},
   "outputs": [],
   "source": [
    "cleaned_prices_autos.shape"
   ]
  },
  {
   "cell_type": "code",
   "execution_count": null,
   "metadata": {},
   "outputs": [],
   "source": [
    "# view min/max/median/mean etc.\n",
    "\n",
    "cleaned_prices_autos['price_dollars'].describe()"
   ]
  },
  {
   "cell_type": "code",
   "execution_count": null,
   "metadata": {},
   "outputs": [],
   "source": [
    "# calculte the counts for each value\n",
    "\n",
    "cleaned_prices_autos['price_dollars'].value_counts()"
   ]
  },
  {
   "cell_type": "markdown",
   "metadata": {},
   "source": [
    "After cleaning the `price_dollars` column, we are left with **48409 entries**. Our mean price is now **5907.9 dollars**, which is lower that before, as is the standard deviation. The most frequent price for an used car is **500 dollars**, which appears in **781 entries (1.6%)**. \n"
   ]
  },
  {
   "cell_type": "markdown",
   "metadata": {},
   "source": [
    "### 6.2 `odometer_km`"
   ]
  },
  {
   "cell_type": "code",
   "execution_count": null,
   "metadata": {},
   "outputs": [],
   "source": [
    "# See how many unique values are in the column\n",
    "\n",
    "cleaned_prices_autos['odometer_km'].unique().shape"
   ]
  },
  {
   "cell_type": "code",
   "execution_count": null,
   "metadata": {},
   "outputs": [],
   "source": [
    "# view min/max/median/mean etc.\n",
    "\n",
    "cleaned_prices_autos['odometer_km'].describe()"
   ]
  },
  {
   "cell_type": "code",
   "execution_count": null,
   "metadata": {},
   "outputs": [],
   "source": [
    "# calculte the counts for each value\n",
    "\n",
    "cleaned_prices_autos['odometer_km'].value_counts()"
   ]
  },
  {
   "cell_type": "markdown",
   "metadata": {},
   "source": [
    "The `odometer_km` column seems to have no major issues:\n",
    "- The min value is 5000 km, present in 815 entries.\n",
    "- The max value is **150000 km**, which is also the most frequent value, occuring in **31307 entries (64.7%)**.\n",
    "- The mean is **125788.9 km**, with a standard deviation of      39737.8 km. \n",
    "\n",
    "\n",
    "Most entries have a value superior to 50000 km. Since we are working with used cars, this seems reasonable. \n",
    "Therefore, we will not remove any entries based on unrealistically high or low `odometer_km` values."
   ]
  },
  {
   "cell_type": "code",
   "execution_count": null,
   "metadata": {},
   "outputs": [],
   "source": [
    "# make a copy of the dataframe under a shorter name\n",
    "\n",
    "clean_autos = cleaned_prices_autos.copy()"
   ]
  },
  {
   "cell_type": "markdown",
   "metadata": {},
   "source": [
    "## 6.3 dates and times"
   ]
  },
  {
   "cell_type": "markdown",
   "metadata": {},
   "source": [
    "There are several columns that represent date values:\n",
    "- `date_crawled`: When the ad was first crawled. Added by the crawler.\n",
    "- `last_seen`: When the crawler saw the ad last online. Added by the crawler\n",
    "- `ad_created`: The date on which the eBay listing was created. Created by the website.\n",
    "- `registration_month`: The month in which the car was first registered. Created by the website.\n",
    "- `registration_year`: The year in which the car was first registered. Created by the website.\n"
   ]
  },
  {
   "cell_type": "code",
   "execution_count": null,
   "metadata": {},
   "outputs": [],
   "source": [
    "clean_autos.info()"
   ]
  },
  {
   "cell_type": "markdown",
   "metadata": {},
   "source": [
    "### Observations\n",
    "\n",
    "As of now, the `date_crawled`, `ad_created` and `last_seen` columns are recognized as string types (object). The `registration_year` and `registration_month` columns, on the other hand, are stored as numeric data. \n",
    "\n",
    "We will convert the data stored in `date_crawled`, `ad_created` and `last_seen` into numeric data, so we can process it quantitatively."
   ]
  },
  {
   "cell_type": "markdown",
   "metadata": {},
   "source": [
    "### 6.3.1  `date_crawled`"
   ]
  },
  {
   "cell_type": "code",
   "execution_count": null,
   "metadata": {},
   "outputs": [],
   "source": [
    "clean_autos['date_crawled'].describe()"
   ]
  },
  {
   "cell_type": "markdown",
   "metadata": {},
   "source": [
    "As we can see above, the first 10 characters correspond to the date (e.g. 2016-03-12). Therefore, we can extract the date values and then generate a distribution using the `Series.value_counts()` command. "
   ]
  },
  {
   "cell_type": "code",
   "execution_count": null,
   "metadata": {},
   "outputs": [],
   "source": [
    "# extract the date from the string\n",
    "\n",
    "clean_autos['date_crawled']=clean_autos['date_crawled'].str[:10]"
   ]
  },
  {
   "cell_type": "code",
   "execution_count": null,
   "metadata": {},
   "outputs": [],
   "source": [
    "clean_autos['date_crawled'].head()"
   ]
  },
  {
   "cell_type": "code",
   "execution_count": null,
   "metadata": {},
   "outputs": [],
   "source": [
    "clean_autos['date_crawled'].value_counts()"
   ]
  },
  {
   "cell_type": "code",
   "execution_count": null,
   "metadata": {
    "scrolled": false
   },
   "outputs": [],
   "source": [
    "# calculate the distribution of values in percentages instead of counts\n",
    "\n",
    "clean_autos['date_crawled'].value_counts(normalize=True, dropna=False)\n"
   ]
  },
  {
   "cell_type": "code",
   "execution_count": null,
   "metadata": {},
   "outputs": [],
   "source": [
    "# calculate the distribution of values in percentages and in ascending order\n",
    "\n",
    "clean_autos['date_crawled'].value_counts(normalize=True, dropna=False).sort_index(ascending=True)\n"
   ]
  },
  {
   "cell_type": "markdown",
   "metadata": {},
   "source": [
    "As we can observe above, there are 48409 entries in `date_crawled`.\n",
    "The frequencies for each value are quite distributed between all the different values. The range of dates starts on **2016-03-05** and ends on **2016-04-07**.\n",
    "According to this column, most ads were crawled in **2016-04-03 (3.86%)**."
   ]
  },
  {
   "cell_type": "markdown",
   "metadata": {},
   "source": [
    "### 6.3.2 `ad_created`"
   ]
  },
  {
   "cell_type": "code",
   "execution_count": null,
   "metadata": {},
   "outputs": [],
   "source": [
    "clean_autos['ad_created'].describe()"
   ]
  },
  {
   "cell_type": "code",
   "execution_count": null,
   "metadata": {},
   "outputs": [],
   "source": [
    "# extract the date from the string\n",
    "\n",
    "clean_autos['ad_created']=clean_autos['ad_created'].str[:10]"
   ]
  },
  {
   "cell_type": "code",
   "execution_count": null,
   "metadata": {},
   "outputs": [],
   "source": [
    "# calculate the distribution of values in percentages \n",
    "\n",
    "clean_autos['ad_created'].value_counts(normalize=True, dropna=False)\n"
   ]
  },
  {
   "cell_type": "code",
   "execution_count": null,
   "metadata": {},
   "outputs": [],
   "source": [
    "# calculate the distribution of values in percentages and in ascending order\n",
    "\n",
    "clean_autos['ad_created'].value_counts(normalize=True, dropna=False).sort_index(ascending=True)\n"
   ]
  },
  {
   "cell_type": "markdown",
   "metadata": {},
   "source": [
    "In the `ad_created` column, there are also 48409 entries. The range of dates from the  columns starts on **2015-06-11** and ends on **2016-04-07**. According to this column, the most popular day for ad creation was **2016-04-03 (3.88%)**.\n"
   ]
  },
  {
   "cell_type": "markdown",
   "metadata": {
    "collapsed": true
   },
   "source": [
    "### 6.3.3 `last_seen`"
   ]
  },
  {
   "cell_type": "code",
   "execution_count": null,
   "metadata": {},
   "outputs": [],
   "source": [
    "clean_autos['last_seen'].describe()"
   ]
  },
  {
   "cell_type": "code",
   "execution_count": null,
   "metadata": {},
   "outputs": [],
   "source": [
    "# extract the date from the string\n",
    "\n",
    "clean_autos['last_seen']=clean_autos['last_seen'].str[:10]"
   ]
  },
  {
   "cell_type": "code",
   "execution_count": null,
   "metadata": {},
   "outputs": [],
   "source": [
    "# calculate the distribution of values in percentages\n",
    "\n",
    "clean_autos['last_seen'].value_counts(normalize=True, dropna=False)\n"
   ]
  },
  {
   "cell_type": "code",
   "execution_count": null,
   "metadata": {},
   "outputs": [],
   "source": [
    "# calculate the distribution of values in percentages and in ascending order\n",
    "\n",
    "clean_autos['last_seen'].value_counts(normalize=True, dropna=False).sort_index(ascending=True)\n"
   ]
  },
  {
   "cell_type": "markdown",
   "metadata": {},
   "source": [
    "In the `last_seen` column, there are again 48409 entries. The range of dates from the  columns starts on **2016-03-05** and ends on **2016-04-07**. According to this column, the day when most ads were last seen online is **2016-04-06 (2.21%)**."
   ]
  },
  {
   "cell_type": "markdown",
   "metadata": {
    "collapsed": true
   },
   "source": [
    "### Date and time: summary\n",
    "        \n",
    "\n",
    "| Column     | Range of dates | Most frequent day\n",
    "| ----------- | ----------- | ----------- |\n",
    "| **`date_crawled`**   | 2016-03-05 to 2016-04-07   |2016-04-03 (3.86%)|\n",
    "| **`ad_created`**   | 2015-06-11 to 2016-04-07     |2016-04-03 (3.88%)|\n",
    "| **`last_seen`**  | 2016-03-05 to 2016-04-07       |2016-04-06 (2.21%)|\n",
    "\n",
    "### Main conclusions:\n",
    "\n",
    "- `dateCrawled` displays the date the ads were crawled. Ad crawling started in March of 2016 and ended in April of the same year.\n",
    "- Ads created as early as June 2015 are included in this dataset, as we can see in the `ad_created` column.\n",
    "- The `last_seen` column contains the date when the crawler last saw the ad online. The day when most ads were last seen online is 2016-04-06 (2.21%).\n"
   ]
  },
  {
   "cell_type": "markdown",
   "metadata": {},
   "source": [
    "## 6.4 'registration_year'"
   ]
  },
  {
   "cell_type": "code",
   "execution_count": null,
   "metadata": {
    "scrolled": true
   },
   "outputs": [],
   "source": [
    "clean_autos['registration_year'].describe()"
   ]
  },
  {
   "cell_type": "markdown",
   "metadata": {},
   "source": [
    "As we can see above, the `registration_year` column contains some errors. The maximum value is 9999 and the minimum is 1000, both clearly incorrect. \n",
    "\n",
    "Given that the `registration_year` corresponds to the year in which the car was first registered, we known that cannot be after 2015, the year the first ads were created.\n",
    "As for the earliest acceptable year for car registration, we will accept any year after 1900."
   ]
  },
  {
   "cell_type": "code",
   "execution_count": null,
   "metadata": {},
   "outputs": [],
   "source": [
    "# remove the rows where the 'registation_year' values are outside the range we have defined\n",
    "\n",
    "clean_autos = clean_autos[clean_autos['registration_year'].between(1900,2015)]"
   ]
  },
  {
   "cell_type": "code",
   "execution_count": null,
   "metadata": {
    "scrolled": true
   },
   "outputs": [],
   "source": [
    "clean_autos['registration_year'].describe()"
   ]
  },
  {
   "cell_type": "code",
   "execution_count": null,
   "metadata": {
    "scrolled": true
   },
   "outputs": [],
   "source": [
    "clean_autos['registration_year'].value_counts(normalize=True)"
   ]
  },
  {
   "cell_type": "markdown",
   "metadata": {},
   "source": [
    "As we can see, the minimum value for this column is 1910, so cars on sale were registered as early as that. \n",
    "We can also observe that the year **2000** is the year in which the **highest number of cars were registered (6.9%)**. "
   ]
  },
  {
   "cell_type": "code",
   "execution_count": null,
   "metadata": {},
   "outputs": [],
   "source": [
    "# select the top 15 most frequent values \n",
    "\n",
    "clean_autos['registration_year'].value_counts(normalize=True, dropna=False)[0:15]"
   ]
  },
  {
   "cell_type": "code",
   "execution_count": null,
   "metadata": {},
   "outputs": [],
   "source": [
    "# add the frequencies of the top 15 most frequent values (excluding the first)\n",
    "\n",
    "sum(clean_autos['registration_year'].value_counts(normalize=True, dropna=False)[0:15])"
   ]
  },
  {
   "cell_type": "markdown",
   "metadata": {},
   "source": [
    "In addition, almost **80%** of all car registrations occured between **1997** and **2011**. We can conclude from this analysis that, at the time of crawling, the majority of cars on sale in this platform were at least more than 5 years old. "
   ]
  },
  {
   "cell_type": "markdown",
   "metadata": {},
   "source": [
    "\n",
    "## 7. Determining `time_online`\n",
    "\n",
    "Using the `last_seen` and `ad_created` columns, we can calculate how long on average an ad remains online until the car is sold. We will name this new variable `time_online`.\n"
   ]
  },
  {
   "cell_type": "code",
   "execution_count": null,
   "metadata": {},
   "outputs": [],
   "source": [
    "# convert 'ad_created' column to datetime\n",
    "\n",
    "clean_autos['ad_created']=pd.to_datetime(clean_autos['ad_created'])"
   ]
  },
  {
   "cell_type": "code",
   "execution_count": null,
   "metadata": {},
   "outputs": [],
   "source": [
    "# convert 'last_seen' column to datetime\n",
    "\n",
    "clean_autos['last_seen']=pd.to_datetime(clean_autos['last_seen'])"
   ]
  },
  {
   "cell_type": "code",
   "execution_count": null,
   "metadata": {
    "scrolled": false
   },
   "outputs": [],
   "source": [
    "clean_autos['ad_created'].describe()"
   ]
  },
  {
   "cell_type": "code",
   "execution_count": null,
   "metadata": {},
   "outputs": [],
   "source": [
    "clean_autos['last_seen'].describe()"
   ]
  },
  {
   "cell_type": "code",
   "execution_count": null,
   "metadata": {},
   "outputs": [],
   "source": [
    "# create a new column with the time past between `ad_created` and `last_seen``\n",
    "\n",
    "clean_autos['time_online']=clean_autos['last_seen']-clean_autos['ad_created']"
   ]
  },
  {
   "cell_type": "code",
   "execution_count": null,
   "metadata": {},
   "outputs": [],
   "source": [
    "clean_autos['time_online'].shape"
   ]
  },
  {
   "cell_type": "code",
   "execution_count": null,
   "metadata": {},
   "outputs": [],
   "source": [
    "# calculate the distribution of values in percentages \n",
    "\n",
    "clean_autos['time_online'].value_counts(normalize=True, dropna=False)"
   ]
  },
  {
   "cell_type": "code",
   "execution_count": null,
   "metadata": {},
   "outputs": [],
   "source": [
    "# calculate the distribution of values in percentages and in ascending order\n",
    "\n",
    "clean_autos['time_online'].value_counts(normalize=True, dropna=False).sort_index(ascending=True)"
   ]
  },
  {
   "cell_type": "markdown",
   "metadata": {},
   "source": [
    "According to this result, **13.9%** of ads were online for **less than a day**. It is likely that these ads were removed by the poster not because the car was sold, but because of some error in the description or price or something of that nature. "
   ]
  },
  {
   "cell_type": "code",
   "execution_count": null,
   "metadata": {},
   "outputs": [],
   "source": [
    "# select the top 15 most frequent values (excluding the first)\n",
    "\n",
    "clean_autos['time_online'].value_counts(normalize=True, dropna=False)[1:15]"
   ]
  },
  {
   "cell_type": "code",
   "execution_count": null,
   "metadata": {},
   "outputs": [],
   "source": [
    "# add the frequencies of the top 15 most frequent values (excluding the first)\n",
    "\n",
    "sum(clean_autos['time_online'].value_counts(normalize=True, dropna=False).sort_index(ascending=True)[1:15])"
   ]
  },
  {
   "cell_type": "markdown",
   "metadata": {},
   "source": [
    "### Main conclusions:\n",
    "\n",
    "If we exclude the '0 days' value from the top 15 most frequent results, we obtain that **62.8%** of the ads are removed up to **14 days** after their creation. We can infer from this that most of the used cars announced in the  *eBay Kleinanzeigen* platform are sold after less than 2 weeks after publishing. "
   ]
  },
  {
   "cell_type": "markdown",
   "metadata": {},
   "source": [
    "## 8. Exploring mean price by brand"
   ]
  },
  {
   "cell_type": "code",
   "execution_count": null,
   "metadata": {},
   "outputs": [],
   "source": [
    "clean_autos['brand'].describe()"
   ]
  },
  {
   "cell_type": "code",
   "execution_count": null,
   "metadata": {},
   "outputs": [],
   "source": [
    "clean_autos['brand'].value_counts()"
   ]
  },
  {
   "cell_type": "code",
   "execution_count": null,
   "metadata": {},
   "outputs": [],
   "source": [
    "clean_autos['brand'].value_counts(normalize=True)"
   ]
  },
  {
   "cell_type": "markdown",
   "metadata": {},
   "source": [
    "We will start by selecting the top 10 most common brands. "
   ]
  },
  {
   "cell_type": "code",
   "execution_count": null,
   "metadata": {},
   "outputs": [],
   "source": [
    "# select the top 10 brands\n",
    "\n",
    "top_ten_brands=clean_autos['brand'].value_counts().index[0:10]\n",
    "print(top_ten_brands)"
   ]
  },
  {
   "cell_type": "code",
   "execution_count": null,
   "metadata": {},
   "outputs": [],
   "source": [
    "# create an empty dictionary to hold the mean price for each brand\n",
    "\n",
    "mean_price_brand={}\n",
    "\n",
    "# loop over each top 10 brand and retrieve the mean price\n",
    "\n",
    "for b in top_ten_brands:\n",
    "    brand_rows=clean_autos[clean_autos['brand']==b]\n",
    "    mean_price=brand_rows['price_dollars'].mean()\n",
    "    mean_price_brand[b]=mean_price"
   ]
  },
  {
   "cell_type": "code",
   "execution_count": null,
   "metadata": {},
   "outputs": [],
   "source": [
    "mean_price_brand"
   ]
  },
  {
   "cell_type": "markdown",
   "metadata": {},
   "source": [
    "### Main conclusions:\n",
    "\n",
    "Among the top 10 most common brands, there are 3 **luxury brands**: `audi`, `mercedes_benz` and `bmw`. Used cars on sale by these brands have higher prices, costing on average around **9000 dollars**. \n",
    "\n",
    "The remaining brands are more affordable, and their mean prices range between 2500 to 5500 dollars. \n",
    "\n",
    "`fiat` and `renault` are the **cheapest brands** on average, with prices below **3000 dollars.** `volkswagen` and `seat` are **middle-range brands**, with mean prices closer to **5000 dollars**. "
   ]
  },
  {
   "cell_type": "markdown",
   "metadata": {},
   "source": [
    "## 9. Exploring mean price and average mileage "
   ]
  },
  {
   "cell_type": "code",
   "execution_count": null,
   "metadata": {},
   "outputs": [],
   "source": [
    "# create an empty dictionary to hold the mean mileage for each brand\n",
    "\n",
    "mean_miles_brand={}\n",
    "\n",
    "# loop over each top 10 brand and retrieve the mean price\n",
    "\n",
    "for b in top_ten_brands:\n",
    "    brand_rows=clean_autos[clean_autos['brand']==b]\n",
    "    mean_miles=brand_rows['odometer_km'].mean()\n",
    "    mean_miles_brand[b]=mean_miles"
   ]
  },
  {
   "cell_type": "code",
   "execution_count": null,
   "metadata": {},
   "outputs": [],
   "source": [
    "mean_miles_brand"
   ]
  },
  {
   "cell_type": "code",
   "execution_count": null,
   "metadata": {},
   "outputs": [],
   "source": [
    "# convert the mean prices dictionary to a series object, using the series constructor\n",
    "\n",
    "price_series=pd.Series(data=mean_price_brand)"
   ]
  },
  {
   "cell_type": "code",
   "execution_count": null,
   "metadata": {},
   "outputs": [],
   "source": [
    "# convert the mean mileage dictionary to a series object, using the series constructor\n",
    "\n",
    "miles_series=pd.Series(data=mean_miles_brand)"
   ]
  },
  {
   "cell_type": "code",
   "execution_count": null,
   "metadata": {},
   "outputs": [],
   "source": [
    "price_series"
   ]
  },
  {
   "cell_type": "code",
   "execution_count": null,
   "metadata": {},
   "outputs": [],
   "source": [
    "# create a dataframe from the price series using the dataframe constructor\n",
    "\n",
    "price_miles_dataframe=pd.DataFrame(price_series, columns=['mean_price'])"
   ]
  },
  {
   "cell_type": "code",
   "execution_count": null,
   "metadata": {},
   "outputs": [],
   "source": [
    "price_miles_dataframe"
   ]
  },
  {
   "cell_type": "code",
   "execution_count": null,
   "metadata": {},
   "outputs": [],
   "source": [
    "# add the mileage series as a new column in the new dataframe\n",
    "\n",
    "price_miles_dataframe['mean_mileage']=miles_series"
   ]
  },
  {
   "cell_type": "code",
   "execution_count": null,
   "metadata": {},
   "outputs": [],
   "source": [
    "price_miles_dataframe"
   ]
  },
  {
   "cell_type": "code",
   "execution_count": null,
   "metadata": {},
   "outputs": [],
   "source": [
    "price_miles_dataframe['mean_mileage'].describe()"
   ]
  },
  {
   "cell_type": "markdown",
   "metadata": {},
   "source": [
    "### Main conclusions:\n",
    "\n",
    "- There are no drastic differences in the average mileage between the top 10 brands. All brands display a **mean mileage over 110000 km**, and the standard deviation of the series is below 5000 km.\n",
    "- The brand with the highest average mileage is `mercedes_benz` (**132446.4 km**) and the one with the lowest is `fiat` (**116589.9 km**). The 15856.5 km difference does not seem to justify the difference in mean prices, considering that `mercedes_benz` cars are 204.9% more expensive on average than `fiat` cars.\n",
    "- Similarly, we can see that `opel` cars have almost exactly the same mean mileage as `audi` cars, while their average price is 67.7% cheaper.\n",
    "- Therefore, we can conclude that the **average mileage of cars produced by the top 10 brands is not likely to influence the cars' average price**."
   ]
  },
  {
   "cell_type": "markdown",
   "metadata": {},
   "source": [
    "## 10. Final summary\n",
    "\n",
    "We performed several data cleaning tasks before analyzing the dataset, such as:\n",
    "- removing 3 irrelevant columns (`seller`, `offer_type`, and `nr_of_pictures`) that added no valuable information;\n",
    "- excluding unreasonable entries in the `odometer_km`, `price_dollars` and `registration_year` columns, which we categorized as outliers.\n",
    "    \n",
    "\n",
    "Regarding the analysis of the data, we have determined that:\n",
    "- at the time of crawling, the majority of cars on sale in the *eBay Kleinanzeigen* platform were at least more than 5 years old;\n",
    "- most of the used cars announced in the crawled ads were sold after less than 2 weeks after publishing;\n",
    "- Among the top 10 most common brands, there were 3 luxury brands (`audi`, `mercedes_benz` and `bmw`, average price ~9000 dollars), middle-range brands (`volkswagen` and `seat`, average price ~5000 dollars) and cheaper brands (`fiat` and `renault`, average price ~3000 dollars);\n",
    "- The mean mileage of cars produced by the top 10 brands does not strongly correlate with the average price and it is unlikely to influence the cars' price.\n"
   ]
  },
  {
   "cell_type": "code",
   "execution_count": null,
   "metadata": {},
   "outputs": [],
   "source": []
  }
 ],
 "metadata": {
  "kernelspec": {
   "display_name": "Python 3",
   "language": "python",
   "name": "python3"
  },
  "language_info": {
   "codemirror_mode": {
    "name": "ipython",
    "version": 3
   },
   "file_extension": ".py",
   "mimetype": "text/x-python",
   "name": "python",
   "nbconvert_exporter": "python",
   "pygments_lexer": "ipython3",
   "version": "3.8.5"
  }
 },
 "nbformat": 4,
 "nbformat_minor": 2
}
