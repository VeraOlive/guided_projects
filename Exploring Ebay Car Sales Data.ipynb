{
 "cells": [
  {
   "cell_type": "markdown",
   "metadata": {
    "collapsed": true
   },
   "source": [
    "# Exploring Ebay Car Sales Data\n",
    "\n",
    "## 1. Introduction\n",
    "\n",
    "In this project, we will analyse a dataset comprised of information about used cars, announced on the classifieds section of the German eBay website, *eBay Kleinanzeigen*.\n",
    "The original dataset, scraped and uploaded to Kaggle by user orgesleka, is no longer available, but you can now find it [here](https://data.world/data-society/used-cars-data). This analysis is done using a smaller subset of that dataset, which has been further \"dirtied\" for learning purposes. That dataset is available in the repo of the project under the name `autos.csv`. \n",
    "\n",
    "The data dictionary for this dataset is the following:\n",
    "- `dateCrawled`: When this ad was first crawled. All field-values are taken from this date.\n",
    "- `name`: Name of the car.\n",
    "- `seller`: Whether the seller is private or a dealer.\n",
    "- `offerType`: The type of listing\n",
    "- `price`: The price on the ad to sell the car.\n",
    "- `abtest`: Whether the listing is included in an A/B test.\n",
    "- `vehicleType`: The vehicle Type.\n",
    "- `yearOfRegistration`: The year in which the car was first registered.\n",
    "- `gearbox`: The transmission type.\n",
    "- `powerPS`: The power of the car in PS.\n",
    "- `model`: The car model name.\n",
    "- `odometer`: How many kilometers the car has driven.\n",
    "- `monthOfRegistration`: The month in which the car was first registered.\n",
    "- `fuelType`: What type of fuel the car uses.\n",
    "- `brand`: The brand of the car.\n",
    "- `notRepairedDamage`: If the car has a damage which is not yet repaired.\n",
    "- `dateCreated`: The date on which the eBay listing was created.\n",
    "- `nrOfPictures`: The number of pictures in the ad.\n",
    "- `postalCode`: The postal code for the location of the vehicle.\n",
    "- `lastSeenOnline`: When the crawler saw this ad last online.\n",
    "\n",
    "\n",
    "## 2. Aim of the project\n",
    "Clean the data and analyze the used car listing."
   ]
  },
  {
   "cell_type": "code",
   "execution_count": 1,
   "metadata": {},
   "outputs": [],
   "source": [
    "# import the pandas and NumPy libraries\n",
    "\n",
    "import pandas as pd\n",
    "import numpy as np\n",
    "\n",
    "# read the autos.csv file into pandas, and assign it to the variable name autos\n",
    "autos=pd.read_csv('autos.csv',encoding='Latin-1')"
   ]
  },
  {
   "cell_type": "code",
   "execution_count": 2,
   "metadata": {
    "scrolled": false
   },
   "outputs": [
    {
     "data": {
      "text/html": [
       "<div>\n",
       "<style scoped>\n",
       "    .dataframe tbody tr th:only-of-type {\n",
       "        vertical-align: middle;\n",
       "    }\n",
       "\n",
       "    .dataframe tbody tr th {\n",
       "        vertical-align: top;\n",
       "    }\n",
       "\n",
       "    .dataframe thead th {\n",
       "        text-align: right;\n",
       "    }\n",
       "</style>\n",
       "<table border=\"1\" class=\"dataframe\">\n",
       "  <thead>\n",
       "    <tr style=\"text-align: right;\">\n",
       "      <th></th>\n",
       "      <th>dateCrawled</th>\n",
       "      <th>name</th>\n",
       "      <th>seller</th>\n",
       "      <th>offerType</th>\n",
       "      <th>price</th>\n",
       "      <th>abtest</th>\n",
       "      <th>vehicleType</th>\n",
       "      <th>yearOfRegistration</th>\n",
       "      <th>gearbox</th>\n",
       "      <th>powerPS</th>\n",
       "      <th>model</th>\n",
       "      <th>odometer</th>\n",
       "      <th>monthOfRegistration</th>\n",
       "      <th>fuelType</th>\n",
       "      <th>brand</th>\n",
       "      <th>notRepairedDamage</th>\n",
       "      <th>dateCreated</th>\n",
       "      <th>nrOfPictures</th>\n",
       "      <th>postalCode</th>\n",
       "      <th>lastSeen</th>\n",
       "    </tr>\n",
       "  </thead>\n",
       "  <tbody>\n",
       "    <tr>\n",
       "      <th>0</th>\n",
       "      <td>2016-03-26 17:47:46</td>\n",
       "      <td>Peugeot_807_160_NAVTECH_ON_BOARD</td>\n",
       "      <td>privat</td>\n",
       "      <td>Angebot</td>\n",
       "      <td>$5,000</td>\n",
       "      <td>control</td>\n",
       "      <td>bus</td>\n",
       "      <td>2004</td>\n",
       "      <td>manuell</td>\n",
       "      <td>158</td>\n",
       "      <td>andere</td>\n",
       "      <td>150,000km</td>\n",
       "      <td>3</td>\n",
       "      <td>lpg</td>\n",
       "      <td>peugeot</td>\n",
       "      <td>nein</td>\n",
       "      <td>2016-03-26 00:00:00</td>\n",
       "      <td>0</td>\n",
       "      <td>79588</td>\n",
       "      <td>2016-04-06 06:45:54</td>\n",
       "    </tr>\n",
       "    <tr>\n",
       "      <th>1</th>\n",
       "      <td>2016-04-04 13:38:56</td>\n",
       "      <td>BMW_740i_4_4_Liter_HAMANN_UMBAU_Mega_Optik</td>\n",
       "      <td>privat</td>\n",
       "      <td>Angebot</td>\n",
       "      <td>$8,500</td>\n",
       "      <td>control</td>\n",
       "      <td>limousine</td>\n",
       "      <td>1997</td>\n",
       "      <td>automatik</td>\n",
       "      <td>286</td>\n",
       "      <td>7er</td>\n",
       "      <td>150,000km</td>\n",
       "      <td>6</td>\n",
       "      <td>benzin</td>\n",
       "      <td>bmw</td>\n",
       "      <td>nein</td>\n",
       "      <td>2016-04-04 00:00:00</td>\n",
       "      <td>0</td>\n",
       "      <td>71034</td>\n",
       "      <td>2016-04-06 14:45:08</td>\n",
       "    </tr>\n",
       "    <tr>\n",
       "      <th>2</th>\n",
       "      <td>2016-03-26 18:57:24</td>\n",
       "      <td>Volkswagen_Golf_1.6_United</td>\n",
       "      <td>privat</td>\n",
       "      <td>Angebot</td>\n",
       "      <td>$8,990</td>\n",
       "      <td>test</td>\n",
       "      <td>limousine</td>\n",
       "      <td>2009</td>\n",
       "      <td>manuell</td>\n",
       "      <td>102</td>\n",
       "      <td>golf</td>\n",
       "      <td>70,000km</td>\n",
       "      <td>7</td>\n",
       "      <td>benzin</td>\n",
       "      <td>volkswagen</td>\n",
       "      <td>nein</td>\n",
       "      <td>2016-03-26 00:00:00</td>\n",
       "      <td>0</td>\n",
       "      <td>35394</td>\n",
       "      <td>2016-04-06 20:15:37</td>\n",
       "    </tr>\n",
       "    <tr>\n",
       "      <th>3</th>\n",
       "      <td>2016-03-12 16:58:10</td>\n",
       "      <td>Smart_smart_fortwo_coupe_softouch/F1/Klima/Pan...</td>\n",
       "      <td>privat</td>\n",
       "      <td>Angebot</td>\n",
       "      <td>$4,350</td>\n",
       "      <td>control</td>\n",
       "      <td>kleinwagen</td>\n",
       "      <td>2007</td>\n",
       "      <td>automatik</td>\n",
       "      <td>71</td>\n",
       "      <td>fortwo</td>\n",
       "      <td>70,000km</td>\n",
       "      <td>6</td>\n",
       "      <td>benzin</td>\n",
       "      <td>smart</td>\n",
       "      <td>nein</td>\n",
       "      <td>2016-03-12 00:00:00</td>\n",
       "      <td>0</td>\n",
       "      <td>33729</td>\n",
       "      <td>2016-03-15 03:16:28</td>\n",
       "    </tr>\n",
       "    <tr>\n",
       "      <th>4</th>\n",
       "      <td>2016-04-01 14:38:50</td>\n",
       "      <td>Ford_Focus_1_6_Benzin_TÜV_neu_ist_sehr_gepfleg...</td>\n",
       "      <td>privat</td>\n",
       "      <td>Angebot</td>\n",
       "      <td>$1,350</td>\n",
       "      <td>test</td>\n",
       "      <td>kombi</td>\n",
       "      <td>2003</td>\n",
       "      <td>manuell</td>\n",
       "      <td>0</td>\n",
       "      <td>focus</td>\n",
       "      <td>150,000km</td>\n",
       "      <td>7</td>\n",
       "      <td>benzin</td>\n",
       "      <td>ford</td>\n",
       "      <td>nein</td>\n",
       "      <td>2016-04-01 00:00:00</td>\n",
       "      <td>0</td>\n",
       "      <td>39218</td>\n",
       "      <td>2016-04-01 14:38:50</td>\n",
       "    </tr>\n",
       "    <tr>\n",
       "      <th>...</th>\n",
       "      <td>...</td>\n",
       "      <td>...</td>\n",
       "      <td>...</td>\n",
       "      <td>...</td>\n",
       "      <td>...</td>\n",
       "      <td>...</td>\n",
       "      <td>...</td>\n",
       "      <td>...</td>\n",
       "      <td>...</td>\n",
       "      <td>...</td>\n",
       "      <td>...</td>\n",
       "      <td>...</td>\n",
       "      <td>...</td>\n",
       "      <td>...</td>\n",
       "      <td>...</td>\n",
       "      <td>...</td>\n",
       "      <td>...</td>\n",
       "      <td>...</td>\n",
       "      <td>...</td>\n",
       "      <td>...</td>\n",
       "    </tr>\n",
       "    <tr>\n",
       "      <th>49995</th>\n",
       "      <td>2016-03-27 14:38:19</td>\n",
       "      <td>Audi_Q5_3.0_TDI_qu._S_tr.__Navi__Panorama__Xenon</td>\n",
       "      <td>privat</td>\n",
       "      <td>Angebot</td>\n",
       "      <td>$24,900</td>\n",
       "      <td>control</td>\n",
       "      <td>limousine</td>\n",
       "      <td>2011</td>\n",
       "      <td>automatik</td>\n",
       "      <td>239</td>\n",
       "      <td>q5</td>\n",
       "      <td>100,000km</td>\n",
       "      <td>1</td>\n",
       "      <td>diesel</td>\n",
       "      <td>audi</td>\n",
       "      <td>nein</td>\n",
       "      <td>2016-03-27 00:00:00</td>\n",
       "      <td>0</td>\n",
       "      <td>82131</td>\n",
       "      <td>2016-04-01 13:47:40</td>\n",
       "    </tr>\n",
       "    <tr>\n",
       "      <th>49996</th>\n",
       "      <td>2016-03-28 10:50:25</td>\n",
       "      <td>Opel_Astra_F_Cabrio_Bertone_Edition___TÜV_neu+...</td>\n",
       "      <td>privat</td>\n",
       "      <td>Angebot</td>\n",
       "      <td>$1,980</td>\n",
       "      <td>control</td>\n",
       "      <td>cabrio</td>\n",
       "      <td>1996</td>\n",
       "      <td>manuell</td>\n",
       "      <td>75</td>\n",
       "      <td>astra</td>\n",
       "      <td>150,000km</td>\n",
       "      <td>5</td>\n",
       "      <td>benzin</td>\n",
       "      <td>opel</td>\n",
       "      <td>nein</td>\n",
       "      <td>2016-03-28 00:00:00</td>\n",
       "      <td>0</td>\n",
       "      <td>44807</td>\n",
       "      <td>2016-04-02 14:18:02</td>\n",
       "    </tr>\n",
       "    <tr>\n",
       "      <th>49997</th>\n",
       "      <td>2016-04-02 14:44:48</td>\n",
       "      <td>Fiat_500_C_1.2_Dualogic_Lounge</td>\n",
       "      <td>privat</td>\n",
       "      <td>Angebot</td>\n",
       "      <td>$13,200</td>\n",
       "      <td>test</td>\n",
       "      <td>cabrio</td>\n",
       "      <td>2014</td>\n",
       "      <td>automatik</td>\n",
       "      <td>69</td>\n",
       "      <td>500</td>\n",
       "      <td>5,000km</td>\n",
       "      <td>11</td>\n",
       "      <td>benzin</td>\n",
       "      <td>fiat</td>\n",
       "      <td>nein</td>\n",
       "      <td>2016-04-02 00:00:00</td>\n",
       "      <td>0</td>\n",
       "      <td>73430</td>\n",
       "      <td>2016-04-04 11:47:27</td>\n",
       "    </tr>\n",
       "    <tr>\n",
       "      <th>49998</th>\n",
       "      <td>2016-03-08 19:25:42</td>\n",
       "      <td>Audi_A3_2.0_TDI_Sportback_Ambition</td>\n",
       "      <td>privat</td>\n",
       "      <td>Angebot</td>\n",
       "      <td>$22,900</td>\n",
       "      <td>control</td>\n",
       "      <td>kombi</td>\n",
       "      <td>2013</td>\n",
       "      <td>manuell</td>\n",
       "      <td>150</td>\n",
       "      <td>a3</td>\n",
       "      <td>40,000km</td>\n",
       "      <td>11</td>\n",
       "      <td>diesel</td>\n",
       "      <td>audi</td>\n",
       "      <td>nein</td>\n",
       "      <td>2016-03-08 00:00:00</td>\n",
       "      <td>0</td>\n",
       "      <td>35683</td>\n",
       "      <td>2016-04-05 16:45:07</td>\n",
       "    </tr>\n",
       "    <tr>\n",
       "      <th>49999</th>\n",
       "      <td>2016-03-14 00:42:12</td>\n",
       "      <td>Opel_Vectra_1.6_16V</td>\n",
       "      <td>privat</td>\n",
       "      <td>Angebot</td>\n",
       "      <td>$1,250</td>\n",
       "      <td>control</td>\n",
       "      <td>limousine</td>\n",
       "      <td>1996</td>\n",
       "      <td>manuell</td>\n",
       "      <td>101</td>\n",
       "      <td>vectra</td>\n",
       "      <td>150,000km</td>\n",
       "      <td>1</td>\n",
       "      <td>benzin</td>\n",
       "      <td>opel</td>\n",
       "      <td>nein</td>\n",
       "      <td>2016-03-13 00:00:00</td>\n",
       "      <td>0</td>\n",
       "      <td>45897</td>\n",
       "      <td>2016-04-06 21:18:48</td>\n",
       "    </tr>\n",
       "  </tbody>\n",
       "</table>\n",
       "<p>50000 rows × 20 columns</p>\n",
       "</div>"
      ],
      "text/plain": [
       "               dateCrawled                                               name  \\\n",
       "0      2016-03-26 17:47:46                   Peugeot_807_160_NAVTECH_ON_BOARD   \n",
       "1      2016-04-04 13:38:56         BMW_740i_4_4_Liter_HAMANN_UMBAU_Mega_Optik   \n",
       "2      2016-03-26 18:57:24                         Volkswagen_Golf_1.6_United   \n",
       "3      2016-03-12 16:58:10  Smart_smart_fortwo_coupe_softouch/F1/Klima/Pan...   \n",
       "4      2016-04-01 14:38:50  Ford_Focus_1_6_Benzin_TÜV_neu_ist_sehr_gepfleg...   \n",
       "...                    ...                                                ...   \n",
       "49995  2016-03-27 14:38:19   Audi_Q5_3.0_TDI_qu._S_tr.__Navi__Panorama__Xenon   \n",
       "49996  2016-03-28 10:50:25  Opel_Astra_F_Cabrio_Bertone_Edition___TÜV_neu+...   \n",
       "49997  2016-04-02 14:44:48                     Fiat_500_C_1.2_Dualogic_Lounge   \n",
       "49998  2016-03-08 19:25:42                 Audi_A3_2.0_TDI_Sportback_Ambition   \n",
       "49999  2016-03-14 00:42:12                                Opel_Vectra_1.6_16V   \n",
       "\n",
       "       seller offerType    price   abtest vehicleType  yearOfRegistration  \\\n",
       "0      privat   Angebot   $5,000  control         bus                2004   \n",
       "1      privat   Angebot   $8,500  control   limousine                1997   \n",
       "2      privat   Angebot   $8,990     test   limousine                2009   \n",
       "3      privat   Angebot   $4,350  control  kleinwagen                2007   \n",
       "4      privat   Angebot   $1,350     test       kombi                2003   \n",
       "...       ...       ...      ...      ...         ...                 ...   \n",
       "49995  privat   Angebot  $24,900  control   limousine                2011   \n",
       "49996  privat   Angebot   $1,980  control      cabrio                1996   \n",
       "49997  privat   Angebot  $13,200     test      cabrio                2014   \n",
       "49998  privat   Angebot  $22,900  control       kombi                2013   \n",
       "49999  privat   Angebot   $1,250  control   limousine                1996   \n",
       "\n",
       "         gearbox  powerPS   model   odometer  monthOfRegistration fuelType  \\\n",
       "0        manuell      158  andere  150,000km                    3      lpg   \n",
       "1      automatik      286     7er  150,000km                    6   benzin   \n",
       "2        manuell      102    golf   70,000km                    7   benzin   \n",
       "3      automatik       71  fortwo   70,000km                    6   benzin   \n",
       "4        manuell        0   focus  150,000km                    7   benzin   \n",
       "...          ...      ...     ...        ...                  ...      ...   \n",
       "49995  automatik      239      q5  100,000km                    1   diesel   \n",
       "49996    manuell       75   astra  150,000km                    5   benzin   \n",
       "49997  automatik       69     500    5,000km                   11   benzin   \n",
       "49998    manuell      150      a3   40,000km                   11   diesel   \n",
       "49999    manuell      101  vectra  150,000km                    1   benzin   \n",
       "\n",
       "            brand notRepairedDamage          dateCreated  nrOfPictures  \\\n",
       "0         peugeot              nein  2016-03-26 00:00:00             0   \n",
       "1             bmw              nein  2016-04-04 00:00:00             0   \n",
       "2      volkswagen              nein  2016-03-26 00:00:00             0   \n",
       "3           smart              nein  2016-03-12 00:00:00             0   \n",
       "4            ford              nein  2016-04-01 00:00:00             0   \n",
       "...           ...               ...                  ...           ...   \n",
       "49995        audi              nein  2016-03-27 00:00:00             0   \n",
       "49996        opel              nein  2016-03-28 00:00:00             0   \n",
       "49997        fiat              nein  2016-04-02 00:00:00             0   \n",
       "49998        audi              nein  2016-03-08 00:00:00             0   \n",
       "49999        opel              nein  2016-03-13 00:00:00             0   \n",
       "\n",
       "       postalCode             lastSeen  \n",
       "0           79588  2016-04-06 06:45:54  \n",
       "1           71034  2016-04-06 14:45:08  \n",
       "2           35394  2016-04-06 20:15:37  \n",
       "3           33729  2016-03-15 03:16:28  \n",
       "4           39218  2016-04-01 14:38:50  \n",
       "...           ...                  ...  \n",
       "49995       82131  2016-04-01 13:47:40  \n",
       "49996       44807  2016-04-02 14:18:02  \n",
       "49997       73430  2016-04-04 11:47:27  \n",
       "49998       35683  2016-04-05 16:45:07  \n",
       "49999       45897  2016-04-06 21:18:48  \n",
       "\n",
       "[50000 rows x 20 columns]"
      ]
     },
     "execution_count": 2,
     "metadata": {},
     "output_type": "execute_result"
    }
   ],
   "source": [
    "autos"
   ]
  },
  {
   "cell_type": "code",
   "execution_count": 3,
   "metadata": {
    "scrolled": true
   },
   "outputs": [
    {
     "name": "stdout",
     "output_type": "stream",
     "text": [
      "<class 'pandas.core.frame.DataFrame'>\n",
      "RangeIndex: 50000 entries, 0 to 49999\n",
      "Data columns (total 20 columns):\n",
      " #   Column               Non-Null Count  Dtype \n",
      "---  ------               --------------  ----- \n",
      " 0   dateCrawled          50000 non-null  object\n",
      " 1   name                 50000 non-null  object\n",
      " 2   seller               50000 non-null  object\n",
      " 3   offerType            50000 non-null  object\n",
      " 4   price                50000 non-null  object\n",
      " 5   abtest               50000 non-null  object\n",
      " 6   vehicleType          44905 non-null  object\n",
      " 7   yearOfRegistration   50000 non-null  int64 \n",
      " 8   gearbox              47320 non-null  object\n",
      " 9   powerPS              50000 non-null  int64 \n",
      " 10  model                47242 non-null  object\n",
      " 11  odometer             50000 non-null  object\n",
      " 12  monthOfRegistration  50000 non-null  int64 \n",
      " 13  fuelType             45518 non-null  object\n",
      " 14  brand                50000 non-null  object\n",
      " 15  notRepairedDamage    40171 non-null  object\n",
      " 16  dateCreated          50000 non-null  object\n",
      " 17  nrOfPictures         50000 non-null  int64 \n",
      " 18  postalCode           50000 non-null  int64 \n",
      " 19  lastSeen             50000 non-null  object\n",
      "dtypes: int64(5), object(15)\n",
      "memory usage: 7.6+ MB\n"
     ]
    }
   ],
   "source": [
    "autos.info()"
   ]
  },
  {
   "cell_type": "markdown",
   "metadata": {},
   "source": [
    "### Observations\n",
    "\n",
    "Right away, we can see that the following columns have missing (null) values:\n",
    "- `vehicleType`\n",
    "- `gearbox`\n",
    "- `model`\n",
    "- `fuelType`\n",
    "- `notRepairedDamage`\n",
    "\n",
    "We can also observe the columns `price` and `odometer` are objects, which we will probably have to modify them into a numeric type.\n",
    "\n",
    "We can see that the names of the columns have lower- and uppercase letters and no spaces between them. This is known as [camelcase](https://en.wikipedia.org/wiki/Camel_case#:~:text=Camel%20case%20(sometimes%20stylized%20as,word%20starting%20with%20either%20case.). It will be easier for us to handle column names in the future if we convert them into [snakecase](https://en.wikipedia.org/wiki/Snake_case). It will also be helpful to rename some columns with a more descriptive title of its content (e.g. convert `price` into `price_dollars`).\n",
    "\n",
    "## 3. Column Renaming"
   ]
  },
  {
   "cell_type": "code",
   "execution_count": 4,
   "metadata": {},
   "outputs": [
    {
     "data": {
      "text/plain": [
       "Index(['dateCrawled', 'name', 'seller', 'offerType', 'price', 'abtest',\n",
       "       'vehicleType', 'yearOfRegistration', 'gearbox', 'powerPS', 'model',\n",
       "       'odometer', 'monthOfRegistration', 'fuelType', 'brand',\n",
       "       'notRepairedDamage', 'dateCreated', 'nrOfPictures', 'postalCode',\n",
       "       'lastSeen'],\n",
       "      dtype='object')"
      ]
     },
     "execution_count": 4,
     "metadata": {},
     "output_type": "execute_result"
    }
   ],
   "source": [
    "# print an array of the existing column names\n",
    "\n",
    "autos.columns"
   ]
  },
  {
   "cell_type": "code",
   "execution_count": 5,
   "metadata": {},
   "outputs": [
    {
     "data": {
      "text/plain": [
       "Index(['date_crawled', 'name', 'seller', 'offer_type', 'price_dollars',\n",
       "       'ab_test', 'vehicle_type', 'registration_year', 'gearbox', 'power_ps',\n",
       "       'model', 'odometer_km', 'registration_month', 'fuel_type', 'brand',\n",
       "       'unrepaired_damage', 'ad_created', 'nr_of_pictures', 'postal_code',\n",
       "       'last_seen'],\n",
       "      dtype='object')"
      ]
     },
     "execution_count": 5,
     "metadata": {},
     "output_type": "execute_result"
    }
   ],
   "source": [
    "# rename columns into snakecase\n",
    "\n",
    "autos.rename(columns={'dateCrawled':'date_crawled', \n",
    "                      'offerType':'offer_type', \n",
    "                      'price':'price_dollars', \n",
    "                      'odometer':'odometer_km', \n",
    "                      'abtest':'ab_test',\n",
    "                      'vehicleType':'vehicle_type', \n",
    "                      'yearOfRegistration':'registration_year',\n",
    "                      'powerPS':'power_ps', \n",
    "                      'monthOfRegistration':'registration_month', \n",
    "                      'fuelType':'fuel_type',\n",
    "                      'notRepairedDamage':'unrepaired_damage', \n",
    "                      'dateCreated':'ad_created', \n",
    "                      'nrOfPictures':'nr_of_pictures', \n",
    "                      'postalCode':'postal_code',\n",
    "                      'lastSeen':'last_seen'}, inplace=True)\n",
    "autos.columns"
   ]
  },
  {
   "cell_type": "markdown",
   "metadata": {},
   "source": [
    "Now that we have converted the column names into a more managable and informative format, we will do some basic data exploration to determine what other cleaning tasks need to be done. \n",
    "\n",
    "We will start by: \n",
    "- dropping any text columns where all or almost all values are the same, as they don't have useful information for analysis.\n",
    "- cleaning and converting numeric data stored as text, such as `price_dollars` and `odometer_km`."
   ]
  },
  {
   "cell_type": "code",
   "execution_count": 6,
   "metadata": {},
   "outputs": [
    {
     "data": {
      "text/html": [
       "<div>\n",
       "<style scoped>\n",
       "    .dataframe tbody tr th:only-of-type {\n",
       "        vertical-align: middle;\n",
       "    }\n",
       "\n",
       "    .dataframe tbody tr th {\n",
       "        vertical-align: top;\n",
       "    }\n",
       "\n",
       "    .dataframe thead th {\n",
       "        text-align: right;\n",
       "    }\n",
       "</style>\n",
       "<table border=\"1\" class=\"dataframe\">\n",
       "  <thead>\n",
       "    <tr style=\"text-align: right;\">\n",
       "      <th></th>\n",
       "      <th>date_crawled</th>\n",
       "      <th>name</th>\n",
       "      <th>seller</th>\n",
       "      <th>offer_type</th>\n",
       "      <th>price_dollars</th>\n",
       "      <th>ab_test</th>\n",
       "      <th>vehicle_type</th>\n",
       "      <th>registration_year</th>\n",
       "      <th>gearbox</th>\n",
       "      <th>power_ps</th>\n",
       "      <th>model</th>\n",
       "      <th>odometer_km</th>\n",
       "      <th>registration_month</th>\n",
       "      <th>fuel_type</th>\n",
       "      <th>brand</th>\n",
       "      <th>unrepaired_damage</th>\n",
       "      <th>ad_created</th>\n",
       "      <th>nr_of_pictures</th>\n",
       "      <th>postal_code</th>\n",
       "      <th>last_seen</th>\n",
       "    </tr>\n",
       "  </thead>\n",
       "  <tbody>\n",
       "    <tr>\n",
       "      <th>count</th>\n",
       "      <td>50000</td>\n",
       "      <td>50000</td>\n",
       "      <td>50000</td>\n",
       "      <td>50000</td>\n",
       "      <td>50000</td>\n",
       "      <td>50000</td>\n",
       "      <td>44905</td>\n",
       "      <td>50000.000000</td>\n",
       "      <td>47320</td>\n",
       "      <td>50000.000000</td>\n",
       "      <td>47242</td>\n",
       "      <td>50000</td>\n",
       "      <td>50000.000000</td>\n",
       "      <td>45518</td>\n",
       "      <td>50000</td>\n",
       "      <td>40171</td>\n",
       "      <td>50000</td>\n",
       "      <td>50000.0</td>\n",
       "      <td>50000.000000</td>\n",
       "      <td>50000</td>\n",
       "    </tr>\n",
       "    <tr>\n",
       "      <th>unique</th>\n",
       "      <td>48213</td>\n",
       "      <td>38754</td>\n",
       "      <td>2</td>\n",
       "      <td>2</td>\n",
       "      <td>2357</td>\n",
       "      <td>2</td>\n",
       "      <td>8</td>\n",
       "      <td>NaN</td>\n",
       "      <td>2</td>\n",
       "      <td>NaN</td>\n",
       "      <td>245</td>\n",
       "      <td>13</td>\n",
       "      <td>NaN</td>\n",
       "      <td>7</td>\n",
       "      <td>40</td>\n",
       "      <td>2</td>\n",
       "      <td>76</td>\n",
       "      <td>NaN</td>\n",
       "      <td>NaN</td>\n",
       "      <td>39481</td>\n",
       "    </tr>\n",
       "    <tr>\n",
       "      <th>top</th>\n",
       "      <td>2016-03-21 16:37:21</td>\n",
       "      <td>Ford_Fiesta</td>\n",
       "      <td>privat</td>\n",
       "      <td>Angebot</td>\n",
       "      <td>$0</td>\n",
       "      <td>test</td>\n",
       "      <td>limousine</td>\n",
       "      <td>NaN</td>\n",
       "      <td>manuell</td>\n",
       "      <td>NaN</td>\n",
       "      <td>golf</td>\n",
       "      <td>150,000km</td>\n",
       "      <td>NaN</td>\n",
       "      <td>benzin</td>\n",
       "      <td>volkswagen</td>\n",
       "      <td>nein</td>\n",
       "      <td>2016-04-03 00:00:00</td>\n",
       "      <td>NaN</td>\n",
       "      <td>NaN</td>\n",
       "      <td>2016-04-07 06:17:27</td>\n",
       "    </tr>\n",
       "    <tr>\n",
       "      <th>freq</th>\n",
       "      <td>3</td>\n",
       "      <td>78</td>\n",
       "      <td>49999</td>\n",
       "      <td>49999</td>\n",
       "      <td>1421</td>\n",
       "      <td>25756</td>\n",
       "      <td>12859</td>\n",
       "      <td>NaN</td>\n",
       "      <td>36993</td>\n",
       "      <td>NaN</td>\n",
       "      <td>4024</td>\n",
       "      <td>32424</td>\n",
       "      <td>NaN</td>\n",
       "      <td>30107</td>\n",
       "      <td>10687</td>\n",
       "      <td>35232</td>\n",
       "      <td>1946</td>\n",
       "      <td>NaN</td>\n",
       "      <td>NaN</td>\n",
       "      <td>8</td>\n",
       "    </tr>\n",
       "    <tr>\n",
       "      <th>mean</th>\n",
       "      <td>NaN</td>\n",
       "      <td>NaN</td>\n",
       "      <td>NaN</td>\n",
       "      <td>NaN</td>\n",
       "      <td>NaN</td>\n",
       "      <td>NaN</td>\n",
       "      <td>NaN</td>\n",
       "      <td>2005.073280</td>\n",
       "      <td>NaN</td>\n",
       "      <td>116.355920</td>\n",
       "      <td>NaN</td>\n",
       "      <td>NaN</td>\n",
       "      <td>5.723360</td>\n",
       "      <td>NaN</td>\n",
       "      <td>NaN</td>\n",
       "      <td>NaN</td>\n",
       "      <td>NaN</td>\n",
       "      <td>0.0</td>\n",
       "      <td>50813.627300</td>\n",
       "      <td>NaN</td>\n",
       "    </tr>\n",
       "    <tr>\n",
       "      <th>std</th>\n",
       "      <td>NaN</td>\n",
       "      <td>NaN</td>\n",
       "      <td>NaN</td>\n",
       "      <td>NaN</td>\n",
       "      <td>NaN</td>\n",
       "      <td>NaN</td>\n",
       "      <td>NaN</td>\n",
       "      <td>105.712813</td>\n",
       "      <td>NaN</td>\n",
       "      <td>209.216627</td>\n",
       "      <td>NaN</td>\n",
       "      <td>NaN</td>\n",
       "      <td>3.711984</td>\n",
       "      <td>NaN</td>\n",
       "      <td>NaN</td>\n",
       "      <td>NaN</td>\n",
       "      <td>NaN</td>\n",
       "      <td>0.0</td>\n",
       "      <td>25779.747957</td>\n",
       "      <td>NaN</td>\n",
       "    </tr>\n",
       "    <tr>\n",
       "      <th>min</th>\n",
       "      <td>NaN</td>\n",
       "      <td>NaN</td>\n",
       "      <td>NaN</td>\n",
       "      <td>NaN</td>\n",
       "      <td>NaN</td>\n",
       "      <td>NaN</td>\n",
       "      <td>NaN</td>\n",
       "      <td>1000.000000</td>\n",
       "      <td>NaN</td>\n",
       "      <td>0.000000</td>\n",
       "      <td>NaN</td>\n",
       "      <td>NaN</td>\n",
       "      <td>0.000000</td>\n",
       "      <td>NaN</td>\n",
       "      <td>NaN</td>\n",
       "      <td>NaN</td>\n",
       "      <td>NaN</td>\n",
       "      <td>0.0</td>\n",
       "      <td>1067.000000</td>\n",
       "      <td>NaN</td>\n",
       "    </tr>\n",
       "    <tr>\n",
       "      <th>25%</th>\n",
       "      <td>NaN</td>\n",
       "      <td>NaN</td>\n",
       "      <td>NaN</td>\n",
       "      <td>NaN</td>\n",
       "      <td>NaN</td>\n",
       "      <td>NaN</td>\n",
       "      <td>NaN</td>\n",
       "      <td>1999.000000</td>\n",
       "      <td>NaN</td>\n",
       "      <td>70.000000</td>\n",
       "      <td>NaN</td>\n",
       "      <td>NaN</td>\n",
       "      <td>3.000000</td>\n",
       "      <td>NaN</td>\n",
       "      <td>NaN</td>\n",
       "      <td>NaN</td>\n",
       "      <td>NaN</td>\n",
       "      <td>0.0</td>\n",
       "      <td>30451.000000</td>\n",
       "      <td>NaN</td>\n",
       "    </tr>\n",
       "    <tr>\n",
       "      <th>50%</th>\n",
       "      <td>NaN</td>\n",
       "      <td>NaN</td>\n",
       "      <td>NaN</td>\n",
       "      <td>NaN</td>\n",
       "      <td>NaN</td>\n",
       "      <td>NaN</td>\n",
       "      <td>NaN</td>\n",
       "      <td>2003.000000</td>\n",
       "      <td>NaN</td>\n",
       "      <td>105.000000</td>\n",
       "      <td>NaN</td>\n",
       "      <td>NaN</td>\n",
       "      <td>6.000000</td>\n",
       "      <td>NaN</td>\n",
       "      <td>NaN</td>\n",
       "      <td>NaN</td>\n",
       "      <td>NaN</td>\n",
       "      <td>0.0</td>\n",
       "      <td>49577.000000</td>\n",
       "      <td>NaN</td>\n",
       "    </tr>\n",
       "    <tr>\n",
       "      <th>75%</th>\n",
       "      <td>NaN</td>\n",
       "      <td>NaN</td>\n",
       "      <td>NaN</td>\n",
       "      <td>NaN</td>\n",
       "      <td>NaN</td>\n",
       "      <td>NaN</td>\n",
       "      <td>NaN</td>\n",
       "      <td>2008.000000</td>\n",
       "      <td>NaN</td>\n",
       "      <td>150.000000</td>\n",
       "      <td>NaN</td>\n",
       "      <td>NaN</td>\n",
       "      <td>9.000000</td>\n",
       "      <td>NaN</td>\n",
       "      <td>NaN</td>\n",
       "      <td>NaN</td>\n",
       "      <td>NaN</td>\n",
       "      <td>0.0</td>\n",
       "      <td>71540.000000</td>\n",
       "      <td>NaN</td>\n",
       "    </tr>\n",
       "    <tr>\n",
       "      <th>max</th>\n",
       "      <td>NaN</td>\n",
       "      <td>NaN</td>\n",
       "      <td>NaN</td>\n",
       "      <td>NaN</td>\n",
       "      <td>NaN</td>\n",
       "      <td>NaN</td>\n",
       "      <td>NaN</td>\n",
       "      <td>9999.000000</td>\n",
       "      <td>NaN</td>\n",
       "      <td>17700.000000</td>\n",
       "      <td>NaN</td>\n",
       "      <td>NaN</td>\n",
       "      <td>12.000000</td>\n",
       "      <td>NaN</td>\n",
       "      <td>NaN</td>\n",
       "      <td>NaN</td>\n",
       "      <td>NaN</td>\n",
       "      <td>0.0</td>\n",
       "      <td>99998.000000</td>\n",
       "      <td>NaN</td>\n",
       "    </tr>\n",
       "  </tbody>\n",
       "</table>\n",
       "</div>"
      ],
      "text/plain": [
       "               date_crawled         name  seller offer_type price_dollars  \\\n",
       "count                 50000        50000   50000      50000         50000   \n",
       "unique                48213        38754       2          2          2357   \n",
       "top     2016-03-21 16:37:21  Ford_Fiesta  privat    Angebot            $0   \n",
       "freq                      3           78   49999      49999          1421   \n",
       "mean                    NaN          NaN     NaN        NaN           NaN   \n",
       "std                     NaN          NaN     NaN        NaN           NaN   \n",
       "min                     NaN          NaN     NaN        NaN           NaN   \n",
       "25%                     NaN          NaN     NaN        NaN           NaN   \n",
       "50%                     NaN          NaN     NaN        NaN           NaN   \n",
       "75%                     NaN          NaN     NaN        NaN           NaN   \n",
       "max                     NaN          NaN     NaN        NaN           NaN   \n",
       "\n",
       "       ab_test vehicle_type  registration_year  gearbox      power_ps  model  \\\n",
       "count    50000        44905       50000.000000    47320  50000.000000  47242   \n",
       "unique       2            8                NaN        2           NaN    245   \n",
       "top       test    limousine                NaN  manuell           NaN   golf   \n",
       "freq     25756        12859                NaN    36993           NaN   4024   \n",
       "mean       NaN          NaN        2005.073280      NaN    116.355920    NaN   \n",
       "std        NaN          NaN         105.712813      NaN    209.216627    NaN   \n",
       "min        NaN          NaN        1000.000000      NaN      0.000000    NaN   \n",
       "25%        NaN          NaN        1999.000000      NaN     70.000000    NaN   \n",
       "50%        NaN          NaN        2003.000000      NaN    105.000000    NaN   \n",
       "75%        NaN          NaN        2008.000000      NaN    150.000000    NaN   \n",
       "max        NaN          NaN        9999.000000      NaN  17700.000000    NaN   \n",
       "\n",
       "       odometer_km  registration_month fuel_type       brand  \\\n",
       "count        50000        50000.000000     45518       50000   \n",
       "unique          13                 NaN         7          40   \n",
       "top      150,000km                 NaN    benzin  volkswagen   \n",
       "freq         32424                 NaN     30107       10687   \n",
       "mean           NaN            5.723360       NaN         NaN   \n",
       "std            NaN            3.711984       NaN         NaN   \n",
       "min            NaN            0.000000       NaN         NaN   \n",
       "25%            NaN            3.000000       NaN         NaN   \n",
       "50%            NaN            6.000000       NaN         NaN   \n",
       "75%            NaN            9.000000       NaN         NaN   \n",
       "max            NaN           12.000000       NaN         NaN   \n",
       "\n",
       "       unrepaired_damage           ad_created  nr_of_pictures   postal_code  \\\n",
       "count              40171                50000         50000.0  50000.000000   \n",
       "unique                 2                   76             NaN           NaN   \n",
       "top                 nein  2016-04-03 00:00:00             NaN           NaN   \n",
       "freq               35232                 1946             NaN           NaN   \n",
       "mean                 NaN                  NaN             0.0  50813.627300   \n",
       "std                  NaN                  NaN             0.0  25779.747957   \n",
       "min                  NaN                  NaN             0.0   1067.000000   \n",
       "25%                  NaN                  NaN             0.0  30451.000000   \n",
       "50%                  NaN                  NaN             0.0  49577.000000   \n",
       "75%                  NaN                  NaN             0.0  71540.000000   \n",
       "max                  NaN                  NaN             0.0  99998.000000   \n",
       "\n",
       "                  last_seen  \n",
       "count                 50000  \n",
       "unique                39481  \n",
       "top     2016-04-07 06:17:27  \n",
       "freq                      8  \n",
       "mean                    NaN  \n",
       "std                     NaN  \n",
       "min                     NaN  \n",
       "25%                     NaN  \n",
       "50%                     NaN  \n",
       "75%                     NaN  \n",
       "max                     NaN  "
      ]
     },
     "execution_count": 6,
     "metadata": {},
     "output_type": "execute_result"
    }
   ],
   "source": [
    "# view min/max/median/mean etc.\n",
    "\n",
    "autos.describe(include='all')"
   ]
  },
  {
   "cell_type": "markdown",
   "metadata": {},
   "source": [
    "From the table above, we can conclude:\n",
    "- The `seller` and `offer_type` columns have only two unique values. Furthermore, the top value has a frequency of 49999, meaning that all rows but one this value.  Therefore, those columns contain virtually no useful information for analysis.\n",
    "- The `nr_of_pictures` column is irrelevant to us, as all rows present a value of 0. "
   ]
  },
  {
   "cell_type": "markdown",
   "metadata": {},
   "source": [
    "\n",
    "## 4. Deleting irrelevant columns:\n",
    "### 4.1 `seller`, `offer_type` and `nr_of_pictures`"
   ]
  },
  {
   "cell_type": "code",
   "execution_count": 7,
   "metadata": {},
   "outputs": [
    {
     "name": "stdout",
     "output_type": "stream",
     "text": [
      "Number of columns: 20\n",
      "Updated number of columns: 17\n"
     ]
    }
   ],
   "source": [
    "# look up the number of initil rows in the dataframe\n",
    "\n",
    "print('Number of columns:',autos.shape[1])\n",
    "\n",
    "# drop the columns\n",
    "\n",
    "autos.drop(columns=['seller','offer_type','nr_of_pictures'], \n",
    "           inplace=True)\n",
    "print('Updated number of columns:',autos.shape[1])"
   ]
  },
  {
   "cell_type": "markdown",
   "metadata": {},
   "source": [
    "\n",
    "## 5. Text to numberic dtype conversion:\n",
    "### 5.1 `price_dollars`"
   ]
  },
  {
   "cell_type": "code",
   "execution_count": 8,
   "metadata": {},
   "outputs": [
    {
     "data": {
      "text/plain": [
       "count     50000\n",
       "unique     2357\n",
       "top          $0\n",
       "freq       1421\n",
       "Name: price_dollars, dtype: object"
      ]
     },
     "execution_count": 8,
     "metadata": {},
     "output_type": "execute_result"
    }
   ],
   "source": [
    "# view min/max/median/mean etc.\n",
    "\n",
    "autos['price_dollars'].describe()"
   ]
  },
  {
   "cell_type": "markdown",
   "metadata": {},
   "source": [
    "As we can see, the top entry is $0. In order to convert `price_dollars` into a numeric type, we need to remove any currency symbols. "
   ]
  },
  {
   "cell_type": "code",
   "execution_count": 9,
   "metadata": {},
   "outputs": [
    {
     "data": {
      "text/plain": [
       "count     50000\n",
       "unique     2357\n",
       "top           0\n",
       "freq       1421\n",
       "Name: price_dollars, dtype: object"
      ]
     },
     "execution_count": 9,
     "metadata": {},
     "output_type": "execute_result"
    }
   ],
   "source": [
    "# Remove any non-numeric characters.\n",
    "\n",
    "autos['price_dollars'] = autos['price_dollars'].str.replace(',','').str.replace('$','')\n",
    "autos['price_dollars'].describe()"
   ]
  },
  {
   "cell_type": "code",
   "execution_count": 10,
   "metadata": {},
   "outputs": [
    {
     "data": {
      "text/plain": [
       "0         5000\n",
       "1         8500\n",
       "2         8990\n",
       "3         4350\n",
       "4         1350\n",
       "         ...  \n",
       "49995    24900\n",
       "49996     1980\n",
       "49997    13200\n",
       "49998    22900\n",
       "49999     1250\n",
       "Name: price_dollars, Length: 50000, dtype: int64"
      ]
     },
     "execution_count": 10,
     "metadata": {},
     "output_type": "execute_result"
    }
   ],
   "source": [
    "# Convert the column to a numeric dtype.\n",
    "\n",
    "autos['price_dollars']=autos['price_dollars'].astype('int')\n",
    "autos['price_dollars']"
   ]
  },
  {
   "cell_type": "markdown",
   "metadata": {},
   "source": [
    "### 5.2 `odometer_km`"
   ]
  },
  {
   "cell_type": "code",
   "execution_count": 11,
   "metadata": {},
   "outputs": [
    {
     "data": {
      "text/plain": [
       "count         50000\n",
       "unique           13\n",
       "top       150,000km\n",
       "freq          32424\n",
       "Name: odometer_km, dtype: object"
      ]
     },
     "execution_count": 11,
     "metadata": {},
     "output_type": "execute_result"
    }
   ],
   "source": [
    "# view min/max/median/mean etc.\n",
    "\n",
    "autos['odometer_km'].describe()"
   ]
  },
  {
   "cell_type": "markdown",
   "metadata": {},
   "source": [
    "The `odometer_km` column also contains non-numeric characters, so we'll remove those as well before converting it to a numeric type."
   ]
  },
  {
   "cell_type": "code",
   "execution_count": 12,
   "metadata": {},
   "outputs": [],
   "source": [
    "# Remove any non-numeric characters.\n",
    "\n",
    "autos['odometer_km'] = autos['odometer_km'].str.replace(',','').str.replace('km','')                                                                                 "
   ]
  },
  {
   "cell_type": "code",
   "execution_count": 13,
   "metadata": {},
   "outputs": [
    {
     "data": {
      "text/plain": [
       "0        150000\n",
       "1        150000\n",
       "2         70000\n",
       "3         70000\n",
       "4        150000\n",
       "          ...  \n",
       "49995    100000\n",
       "49996    150000\n",
       "49997      5000\n",
       "49998     40000\n",
       "49999    150000\n",
       "Name: odometer_km, Length: 50000, dtype: int64"
      ]
     },
     "execution_count": 13,
     "metadata": {},
     "output_type": "execute_result"
    }
   ],
   "source": [
    "# Convert the column to a numeric dtype.\n",
    "\n",
    "autos['odometer_km'] = autos['odometer_km'].astype('int')\n",
    "autos['odometer_km']"
   ]
  },
  {
   "cell_type": "markdown",
   "metadata": {},
   "source": [
    "## 6. Data exploration:\n",
    "\n",
    "### 6.1 `price_dollars`"
   ]
  },
  {
   "cell_type": "code",
   "execution_count": 14,
   "metadata": {},
   "outputs": [
    {
     "data": {
      "text/plain": [
       "(2357,)"
      ]
     },
     "execution_count": 14,
     "metadata": {},
     "output_type": "execute_result"
    }
   ],
   "source": [
    "# See how many unique values are in the column\n",
    "\n",
    "autos['price_dollars'].unique().shape"
   ]
  },
  {
   "cell_type": "code",
   "execution_count": 15,
   "metadata": {},
   "outputs": [
    {
     "data": {
      "text/plain": [
       "count    5.000000e+04\n",
       "mean     9.840044e+03\n",
       "std      4.811044e+05\n",
       "min      0.000000e+00\n",
       "25%      1.100000e+03\n",
       "50%      2.950000e+03\n",
       "75%      7.200000e+03\n",
       "max      1.000000e+08\n",
       "Name: price_dollars, dtype: float64"
      ]
     },
     "execution_count": 15,
     "metadata": {},
     "output_type": "execute_result"
    }
   ],
   "source": [
    "# view min/max/median/mean etc.\n",
    "\n",
    "autos['price_dollars'].describe()"
   ]
  },
  {
   "cell_type": "markdown",
   "metadata": {},
   "source": [
    "### Observations\n",
    "\n",
    "We can already tell that there are some problems with the values in `price_dollars`:\n",
    "- The minimum value is 0 dollars, which is unusual.\n",
    "- The maximum value is 1 billion dollars, which is clearly incorrect.\n",
    "- The mean is 9840.0 dollars with a standard deviation of 481104.4, which is likely caused by the outlier discussed above."
   ]
  },
  {
   "cell_type": "code",
   "execution_count": 16,
   "metadata": {},
   "outputs": [
    {
     "data": {
      "text/plain": [
       "0        1421\n",
       "500       781\n",
       "1500      734\n",
       "2500      643\n",
       "1000      639\n",
       "         ... \n",
       "20790       1\n",
       "8970        1\n",
       "846         1\n",
       "2895        1\n",
       "33980       1\n",
       "Name: price_dollars, Length: 2357, dtype: int64"
      ]
     },
     "execution_count": 16,
     "metadata": {},
     "output_type": "execute_result"
    }
   ],
   "source": [
    "# calculate the counts for each value. \n",
    "\n",
    "autos['price_dollars'].value_counts()"
   ]
  },
  {
   "cell_type": "markdown",
   "metadata": {},
   "source": [
    "We can see that there are 1421 entries with a price of 0 dollars."
   ]
  },
  {
   "cell_type": "code",
   "execution_count": 17,
   "metadata": {},
   "outputs": [
    {
     "data": {
      "text/plain": [
       "0           1421\n",
       "1            156\n",
       "2              3\n",
       "3              1\n",
       "5              2\n",
       "            ... \n",
       "10000000       1\n",
       "11111111       2\n",
       "12345678       3\n",
       "27322222       1\n",
       "99999999       1\n",
       "Name: price_dollars, Length: 2357, dtype: int64"
      ]
     },
     "execution_count": 17,
     "metadata": {},
     "output_type": "execute_result"
    }
   ],
   "source": [
    "# calculate the values with their respective counts in ascending order\n",
    "\n",
    "autos['price_dollars'].value_counts().sort_index(ascending= True)"
   ]
  },
  {
   "cell_type": "markdown",
   "metadata": {},
   "source": [
    "There are an additional 156 entries with a set price of 1 dollar. This could be because sellers do not wish to set a price upfront and prefer to negotiate the price of the car in private. We will remove these entries from our analysis. \n",
    "\n",
    "Other values that stand out are prices equal and superior to 999990 dollars. In total, there are 14 entries in this range.\n",
    "Given that we are working with a dataset of used cars, these prices are unreasonably high and drive our mean and standard deviation up. Therefore, we will consider them **outliers** and remove them from our analysis."
   ]
  },
  {
   "cell_type": "code",
   "execution_count": 18,
   "metadata": {},
   "outputs": [],
   "source": [
    "# remove outliers\n",
    "\n",
    "cleaned_prices_autos=autos[autos[\"price_dollars\"].between(2,999989)]"
   ]
  },
  {
   "cell_type": "code",
   "execution_count": 19,
   "metadata": {},
   "outputs": [
    {
     "data": {
      "text/plain": [
       "(48409, 17)"
      ]
     },
     "execution_count": 19,
     "metadata": {},
     "output_type": "execute_result"
    }
   ],
   "source": [
    "cleaned_prices_autos.shape"
   ]
  },
  {
   "cell_type": "code",
   "execution_count": 20,
   "metadata": {},
   "outputs": [
    {
     "data": {
      "text/plain": [
       "count     48409.000000\n",
       "mean       5907.909707\n",
       "std        9068.263463\n",
       "min           2.000000\n",
       "25%        1250.000000\n",
       "50%        3000.000000\n",
       "75%        7490.000000\n",
       "max      350000.000000\n",
       "Name: price_dollars, dtype: float64"
      ]
     },
     "execution_count": 20,
     "metadata": {},
     "output_type": "execute_result"
    }
   ],
   "source": [
    "# view min/max/median/mean etc.\n",
    "\n",
    "cleaned_prices_autos['price_dollars'].describe()"
   ]
  },
  {
   "cell_type": "code",
   "execution_count": 21,
   "metadata": {},
   "outputs": [
    {
     "data": {
      "text/plain": [
       "500      781\n",
       "1500     734\n",
       "2500     643\n",
       "1200     639\n",
       "1000     639\n",
       "        ... \n",
       "173        1\n",
       "205        1\n",
       "410        1\n",
       "4335       1\n",
       "17799      1\n",
       "Name: price_dollars, Length: 2345, dtype: int64"
      ]
     },
     "execution_count": 21,
     "metadata": {},
     "output_type": "execute_result"
    }
   ],
   "source": [
    "# calculte the counts for each value\n",
    "\n",
    "cleaned_prices_autos['price_dollars'].value_counts()"
   ]
  },
  {
   "cell_type": "markdown",
   "metadata": {},
   "source": [
    "After cleaning the `price_dollars` column, we are left with **48409 entries**. Our mean price is now **5907.9 dollars**, which is lower that before, as is the standard deviation. The most frequent price for an used car is **500 dollars**, which appears in **781 entries (1.6%)**. \n"
   ]
  },
  {
   "cell_type": "markdown",
   "metadata": {},
   "source": [
    "### 6.2 `odometer_km`"
   ]
  },
  {
   "cell_type": "code",
   "execution_count": 22,
   "metadata": {},
   "outputs": [
    {
     "data": {
      "text/plain": [
       "(13,)"
      ]
     },
     "execution_count": 22,
     "metadata": {},
     "output_type": "execute_result"
    }
   ],
   "source": [
    "# See how many unique values are in the column\n",
    "\n",
    "cleaned_prices_autos['odometer_km'].unique().shape"
   ]
  },
  {
   "cell_type": "code",
   "execution_count": 23,
   "metadata": {},
   "outputs": [
    {
     "data": {
      "text/plain": [
       "count     48409.000000\n",
       "mean     125788.902890\n",
       "std       39737.761014\n",
       "min        5000.000000\n",
       "25%      125000.000000\n",
       "50%      150000.000000\n",
       "75%      150000.000000\n",
       "max      150000.000000\n",
       "Name: odometer_km, dtype: float64"
      ]
     },
     "execution_count": 23,
     "metadata": {},
     "output_type": "execute_result"
    }
   ],
   "source": [
    "# view min/max/median/mean etc.\n",
    "\n",
    "cleaned_prices_autos['odometer_km'].describe()"
   ]
  },
  {
   "cell_type": "code",
   "execution_count": 24,
   "metadata": {},
   "outputs": [
    {
     "data": {
      "text/plain": [
       "150000    31307\n",
       "125000     5046\n",
       "100000     2108\n",
       "90000      1733\n",
       "80000      1414\n",
       "70000      1215\n",
       "60000      1154\n",
       "50000      1011\n",
       "40000       815\n",
       "5000        815\n",
       "30000       779\n",
       "20000       762\n",
       "10000       250\n",
       "Name: odometer_km, dtype: int64"
      ]
     },
     "execution_count": 24,
     "metadata": {},
     "output_type": "execute_result"
    }
   ],
   "source": [
    "# calculte the counts for each value\n",
    "\n",
    "cleaned_prices_autos['odometer_km'].value_counts()"
   ]
  },
  {
   "cell_type": "markdown",
   "metadata": {},
   "source": [
    "The `odometer_km` column seems to have no major issues:\n",
    "- The min value is 5000 km, present in 815 entries.\n",
    "- The max value is **150000 km**, which is also the most frequent value, occuring in **31307 entries (64.7%)**.\n",
    "- The mean is **125788.9 km**, with a standard deviation of      39737.8 km. \n",
    "\n",
    "\n",
    "Most entries have a value superior to 50000 km. Since we are working with used cars, this seems reasonable. \n",
    "Therefore, we will not remove any entries based on unrealistically high or low `odometer_km` values."
   ]
  },
  {
   "cell_type": "code",
   "execution_count": 25,
   "metadata": {},
   "outputs": [],
   "source": [
    "# make a copy of the dataframe under a shorter name\n",
    "\n",
    "clean_autos = cleaned_prices_autos.copy()"
   ]
  },
  {
   "cell_type": "markdown",
   "metadata": {},
   "source": [
    "## 6.3 dates and times"
   ]
  },
  {
   "cell_type": "markdown",
   "metadata": {},
   "source": [
    "There are several columns that represent date values:\n",
    "- `date_crawled`: When the ad was first crawled. Added by the crawler.\n",
    "- `last_seen`: When the crawler saw the ad last online. Added by the crawler\n",
    "- `ad_created`: The date on which the eBay listing was created. Created by the website.\n",
    "- `registration_month`: The month in which the car was first registered. Created by the website.\n",
    "- `registration_year`: The year in which the car was first registered. Created by the website.\n"
   ]
  },
  {
   "cell_type": "code",
   "execution_count": 26,
   "metadata": {},
   "outputs": [
    {
     "name": "stdout",
     "output_type": "stream",
     "text": [
      "<class 'pandas.core.frame.DataFrame'>\n",
      "Int64Index: 48409 entries, 0 to 49999\n",
      "Data columns (total 17 columns):\n",
      " #   Column              Non-Null Count  Dtype \n",
      "---  ------              --------------  ----- \n",
      " 0   date_crawled        48409 non-null  object\n",
      " 1   name                48409 non-null  object\n",
      " 2   price_dollars       48409 non-null  int64 \n",
      " 3   ab_test             48409 non-null  object\n",
      " 4   vehicle_type        43891 non-null  object\n",
      " 5   registration_year   48409 non-null  int64 \n",
      " 6   gearbox             46113 non-null  object\n",
      " 7   power_ps            48409 non-null  int64 \n",
      " 8   model               45978 non-null  object\n",
      " 9   odometer_km         48409 non-null  int64 \n",
      " 10  registration_month  48409 non-null  int64 \n",
      " 11  fuel_type           44438 non-null  object\n",
      " 12  brand               48409 non-null  object\n",
      " 13  unrepaired_damage   39405 non-null  object\n",
      " 14  ad_created          48409 non-null  object\n",
      " 15  postal_code         48409 non-null  int64 \n",
      " 16  last_seen           48409 non-null  object\n",
      "dtypes: int64(6), object(11)\n",
      "memory usage: 6.6+ MB\n"
     ]
    }
   ],
   "source": [
    "clean_autos.info()"
   ]
  },
  {
   "cell_type": "markdown",
   "metadata": {},
   "source": [
    "### Observations\n",
    "\n",
    "As of now, the `date_crawled`, `ad_created` and `last_seen` columns are recognized as string types (object). The `registration_year` and `registration_month` columns, on the other hand, are stored as numeric data. \n",
    "\n",
    "We will convert the data stored in `date_crawled`, `ad_created` and `last_seen` into numeric data, so we can process it quantitatively."
   ]
  },
  {
   "cell_type": "markdown",
   "metadata": {},
   "source": [
    "### 6.3.1  `date_crawled`"
   ]
  },
  {
   "cell_type": "code",
   "execution_count": 27,
   "metadata": {},
   "outputs": [
    {
     "data": {
      "text/plain": [
       "count                   48409\n",
       "unique                  46739\n",
       "top       2016-03-30 19:48:02\n",
       "freq                        3\n",
       "Name: date_crawled, dtype: object"
      ]
     },
     "execution_count": 27,
     "metadata": {},
     "output_type": "execute_result"
    }
   ],
   "source": [
    "clean_autos['date_crawled'].describe()"
   ]
  },
  {
   "cell_type": "markdown",
   "metadata": {},
   "source": [
    "As we can see above, the first 10 characters correspond to the date (e.g. 2016-03-21). Therefore, we can extract the date values and then generate a distribution using the `Series.value_counts()` command. "
   ]
  },
  {
   "cell_type": "code",
   "execution_count": 28,
   "metadata": {},
   "outputs": [],
   "source": [
    "# extract the date from the string\n",
    "\n",
    "clean_autos['date_crawled']=clean_autos['date_crawled'].str[:10]"
   ]
  },
  {
   "cell_type": "code",
   "execution_count": 29,
   "metadata": {},
   "outputs": [
    {
     "data": {
      "text/plain": [
       "0    2016-03-26\n",
       "1    2016-04-04\n",
       "2    2016-03-26\n",
       "3    2016-03-12\n",
       "4    2016-04-01\n",
       "Name: date_crawled, dtype: object"
      ]
     },
     "execution_count": 29,
     "metadata": {},
     "output_type": "execute_result"
    }
   ],
   "source": [
    "clean_autos['date_crawled'].head()"
   ]
  },
  {
   "cell_type": "code",
   "execution_count": 30,
   "metadata": {},
   "outputs": [
    {
     "data": {
      "text/plain": [
       "2016-04-03    1868\n",
       "2016-03-20    1830\n",
       "2016-03-21    1806\n",
       "2016-03-12    1789\n",
       "2016-03-14    1773\n",
       "2016-04-04    1766\n",
       "2016-03-07    1745\n",
       "2016-04-02    1718\n",
       "2016-03-28    1687\n",
       "2016-03-19    1682\n",
       "2016-03-15    1659\n",
       "2016-03-29    1652\n",
       "2016-04-01    1633\n",
       "2016-03-30    1633\n",
       "2016-03-08    1611\n",
       "2016-03-09    1600\n",
       "2016-03-22    1594\n",
       "2016-03-11    1578\n",
       "2016-03-23    1562\n",
       "2016-03-26    1561\n",
       "2016-03-10    1559\n",
       "2016-03-31    1540\n",
       "2016-03-17    1531\n",
       "2016-03-25    1528\n",
       "2016-03-27    1507\n",
       "2016-03-16    1429\n",
       "2016-03-24    1423\n",
       "2016-03-05    1228\n",
       "2016-03-13     758\n",
       "2016-03-06     681\n",
       "2016-04-05     633\n",
       "2016-03-18     625\n",
       "2016-04-06     153\n",
       "2016-04-07      67\n",
       "Name: date_crawled, dtype: int64"
      ]
     },
     "execution_count": 30,
     "metadata": {},
     "output_type": "execute_result"
    }
   ],
   "source": [
    "clean_autos['date_crawled'].value_counts()"
   ]
  },
  {
   "cell_type": "code",
   "execution_count": 31,
   "metadata": {
    "scrolled": false
   },
   "outputs": [
    {
     "data": {
      "text/plain": [
       "2016-04-03    0.038588\n",
       "2016-03-20    0.037803\n",
       "2016-03-21    0.037307\n",
       "2016-03-12    0.036956\n",
       "2016-03-14    0.036625\n",
       "2016-04-04    0.036481\n",
       "2016-03-07    0.036047\n",
       "2016-04-02    0.035489\n",
       "2016-03-28    0.034849\n",
       "2016-03-19    0.034746\n",
       "2016-03-15    0.034270\n",
       "2016-03-29    0.034126\n",
       "2016-04-01    0.033733\n",
       "2016-03-30    0.033733\n",
       "2016-03-08    0.033279\n",
       "2016-03-09    0.033052\n",
       "2016-03-22    0.032928\n",
       "2016-03-11    0.032597\n",
       "2016-03-23    0.032267\n",
       "2016-03-26    0.032246\n",
       "2016-03-10    0.032205\n",
       "2016-03-31    0.031812\n",
       "2016-03-17    0.031626\n",
       "2016-03-25    0.031564\n",
       "2016-03-27    0.031131\n",
       "2016-03-16    0.029519\n",
       "2016-03-24    0.029395\n",
       "2016-03-05    0.025367\n",
       "2016-03-13    0.015658\n",
       "2016-03-06    0.014068\n",
       "2016-04-05    0.013076\n",
       "2016-03-18    0.012911\n",
       "2016-04-06    0.003161\n",
       "2016-04-07    0.001384\n",
       "Name: date_crawled, dtype: float64"
      ]
     },
     "execution_count": 31,
     "metadata": {},
     "output_type": "execute_result"
    }
   ],
   "source": [
    "# calculate the distribution of values in percentages instead of counts\n",
    "\n",
    "clean_autos['date_crawled'].value_counts(normalize=True, dropna=False)"
   ]
  },
  {
   "cell_type": "code",
   "execution_count": 32,
   "metadata": {},
   "outputs": [
    {
     "data": {
      "text/plain": [
       "2016-03-05    0.025367\n",
       "2016-03-06    0.014068\n",
       "2016-03-07    0.036047\n",
       "2016-03-08    0.033279\n",
       "2016-03-09    0.033052\n",
       "2016-03-10    0.032205\n",
       "2016-03-11    0.032597\n",
       "2016-03-12    0.036956\n",
       "2016-03-13    0.015658\n",
       "2016-03-14    0.036625\n",
       "2016-03-15    0.034270\n",
       "2016-03-16    0.029519\n",
       "2016-03-17    0.031626\n",
       "2016-03-18    0.012911\n",
       "2016-03-19    0.034746\n",
       "2016-03-20    0.037803\n",
       "2016-03-21    0.037307\n",
       "2016-03-22    0.032928\n",
       "2016-03-23    0.032267\n",
       "2016-03-24    0.029395\n",
       "2016-03-25    0.031564\n",
       "2016-03-26    0.032246\n",
       "2016-03-27    0.031131\n",
       "2016-03-28    0.034849\n",
       "2016-03-29    0.034126\n",
       "2016-03-30    0.033733\n",
       "2016-03-31    0.031812\n",
       "2016-04-01    0.033733\n",
       "2016-04-02    0.035489\n",
       "2016-04-03    0.038588\n",
       "2016-04-04    0.036481\n",
       "2016-04-05    0.013076\n",
       "2016-04-06    0.003161\n",
       "2016-04-07    0.001384\n",
       "Name: date_crawled, dtype: float64"
      ]
     },
     "execution_count": 32,
     "metadata": {},
     "output_type": "execute_result"
    }
   ],
   "source": [
    "# calculate the distribution of values in percentages and in ascending order\n",
    "\n",
    "clean_autos['date_crawled'].value_counts(normalize=True, dropna=False).sort_index(ascending=True)"
   ]
  },
  {
   "cell_type": "markdown",
   "metadata": {},
   "source": [
    "As we can observe above, there are 48409 entries in `date_crawled`.\n",
    "The frequencies for each value are quite distributed between all the different values. The range of dates starts on **2016-03-05** and ends on **2016-04-07**.\n",
    "According to this column, most ads were crawled in **2016-04-03 (3.86%)**."
   ]
  },
  {
   "cell_type": "markdown",
   "metadata": {},
   "source": [
    "### 6.3.2 `ad_created`"
   ]
  },
  {
   "cell_type": "code",
   "execution_count": 33,
   "metadata": {},
   "outputs": [
    {
     "data": {
      "text/plain": [
       "count                   48409\n",
       "unique                     76\n",
       "top       2016-04-03 00:00:00\n",
       "freq                     1880\n",
       "Name: ad_created, dtype: object"
      ]
     },
     "execution_count": 33,
     "metadata": {},
     "output_type": "execute_result"
    }
   ],
   "source": [
    "clean_autos['ad_created'].describe()"
   ]
  },
  {
   "cell_type": "code",
   "execution_count": 34,
   "metadata": {},
   "outputs": [],
   "source": [
    "# extract the date from the string\n",
    "\n",
    "clean_autos['ad_created']=clean_autos['ad_created'].str[:10]"
   ]
  },
  {
   "cell_type": "code",
   "execution_count": 35,
   "metadata": {},
   "outputs": [
    {
     "data": {
      "text/plain": [
       "2016-04-03    0.038836\n",
       "2016-03-20    0.037865\n",
       "2016-03-21    0.037534\n",
       "2016-04-04    0.036853\n",
       "2016-03-12    0.036770\n",
       "                ...   \n",
       "2016-01-03    0.000021\n",
       "2016-02-09    0.000021\n",
       "2016-01-14    0.000021\n",
       "2016-01-22    0.000021\n",
       "2016-01-07    0.000021\n",
       "Name: ad_created, Length: 76, dtype: float64"
      ]
     },
     "execution_count": 35,
     "metadata": {},
     "output_type": "execute_result"
    }
   ],
   "source": [
    "# calculate the distribution of values in percentages \n",
    "\n",
    "clean_autos['ad_created'].value_counts(normalize=True, dropna=False)"
   ]
  },
  {
   "cell_type": "code",
   "execution_count": 36,
   "metadata": {},
   "outputs": [
    {
     "data": {
      "text/plain": [
       "2015-06-11    0.000021\n",
       "2015-08-10    0.000021\n",
       "2015-09-09    0.000021\n",
       "2015-11-10    0.000021\n",
       "2015-12-05    0.000021\n",
       "                ...   \n",
       "2016-04-03    0.038836\n",
       "2016-04-04    0.036853\n",
       "2016-04-05    0.011795\n",
       "2016-04-06    0.003243\n",
       "2016-04-07    0.001239\n",
       "Name: ad_created, Length: 76, dtype: float64"
      ]
     },
     "execution_count": 36,
     "metadata": {},
     "output_type": "execute_result"
    }
   ],
   "source": [
    "# calculate the distribution of values in percentages and in ascending order\n",
    "\n",
    "clean_autos['ad_created'].value_counts(normalize=True, dropna=False).sort_index(ascending=True)"
   ]
  },
  {
   "cell_type": "markdown",
   "metadata": {},
   "source": [
    "In the `ad_created` column, there are also 48409 entries. The range of dates from the  columns starts on **2015-06-11** and ends on **2016-04-07**. According to this column, the most popular day for ad creation was **2016-04-03 (3.88%)**.\n"
   ]
  },
  {
   "cell_type": "markdown",
   "metadata": {
    "collapsed": true
   },
   "source": [
    "### 6.3.3 `last_seen`"
   ]
  },
  {
   "cell_type": "code",
   "execution_count": 37,
   "metadata": {},
   "outputs": [
    {
     "data": {
      "text/plain": [
       "count                   48409\n",
       "unique                  38377\n",
       "top       2016-04-07 06:17:27\n",
       "freq                        8\n",
       "Name: last_seen, dtype: object"
      ]
     },
     "execution_count": 37,
     "metadata": {},
     "output_type": "execute_result"
    }
   ],
   "source": [
    "clean_autos['last_seen'].describe()"
   ]
  },
  {
   "cell_type": "code",
   "execution_count": 38,
   "metadata": {},
   "outputs": [],
   "source": [
    "# extract the date from the string\n",
    "\n",
    "clean_autos['last_seen']=clean_autos['last_seen'].str[:10]"
   ]
  },
  {
   "cell_type": "code",
   "execution_count": 39,
   "metadata": {},
   "outputs": [
    {
     "data": {
      "text/plain": [
       "2016-04-06    0.221591\n",
       "2016-04-07    0.132021\n",
       "2016-04-05    0.124935\n",
       "2016-03-17    0.028073\n",
       "2016-04-03    0.025202\n",
       "2016-04-02    0.024851\n",
       "2016-03-30    0.024747\n",
       "2016-04-04    0.024500\n",
       "2016-03-31    0.023839\n",
       "2016-03-12    0.023797\n",
       "2016-04-01    0.022868\n",
       "2016-03-29    0.022331\n",
       "2016-03-22    0.021380\n",
       "2016-03-28    0.020885\n",
       "2016-03-20    0.020637\n",
       "2016-03-21    0.020616\n",
       "2016-03-24    0.019748\n",
       "2016-03-25    0.019191\n",
       "2016-03-23    0.018592\n",
       "2016-03-26    0.016815\n",
       "2016-03-16    0.016443\n",
       "2016-03-15    0.015865\n",
       "2016-03-19    0.015824\n",
       "2016-03-27    0.015617\n",
       "2016-03-14    0.012622\n",
       "2016-03-11    0.012374\n",
       "2016-03-10    0.010618\n",
       "2016-03-09    0.009626\n",
       "2016-03-13    0.008862\n",
       "2016-03-08    0.007375\n",
       "2016-03-18    0.007333\n",
       "2016-03-07    0.005412\n",
       "2016-03-06    0.004338\n",
       "2016-03-05    0.001074\n",
       "Name: last_seen, dtype: float64"
      ]
     },
     "execution_count": 39,
     "metadata": {},
     "output_type": "execute_result"
    }
   ],
   "source": [
    "# calculate the distribution of values in percentages\n",
    "\n",
    "clean_autos['last_seen'].value_counts(normalize=True, dropna=False)"
   ]
  },
  {
   "cell_type": "code",
   "execution_count": 40,
   "metadata": {},
   "outputs": [
    {
     "data": {
      "text/plain": [
       "2016-03-05    0.001074\n",
       "2016-03-06    0.004338\n",
       "2016-03-07    0.005412\n",
       "2016-03-08    0.007375\n",
       "2016-03-09    0.009626\n",
       "2016-03-10    0.010618\n",
       "2016-03-11    0.012374\n",
       "2016-03-12    0.023797\n",
       "2016-03-13    0.008862\n",
       "2016-03-14    0.012622\n",
       "2016-03-15    0.015865\n",
       "2016-03-16    0.016443\n",
       "2016-03-17    0.028073\n",
       "2016-03-18    0.007333\n",
       "2016-03-19    0.015824\n",
       "2016-03-20    0.020637\n",
       "2016-03-21    0.020616\n",
       "2016-03-22    0.021380\n",
       "2016-03-23    0.018592\n",
       "2016-03-24    0.019748\n",
       "2016-03-25    0.019191\n",
       "2016-03-26    0.016815\n",
       "2016-03-27    0.015617\n",
       "2016-03-28    0.020885\n",
       "2016-03-29    0.022331\n",
       "2016-03-30    0.024747\n",
       "2016-03-31    0.023839\n",
       "2016-04-01    0.022868\n",
       "2016-04-02    0.024851\n",
       "2016-04-03    0.025202\n",
       "2016-04-04    0.024500\n",
       "2016-04-05    0.124935\n",
       "2016-04-06    0.221591\n",
       "2016-04-07    0.132021\n",
       "Name: last_seen, dtype: float64"
      ]
     },
     "execution_count": 40,
     "metadata": {},
     "output_type": "execute_result"
    }
   ],
   "source": [
    "# calculate the distribution of values in percentages and in ascending order\n",
    "\n",
    "clean_autos['last_seen'].value_counts(normalize=True, dropna=False).sort_index(ascending=True)"
   ]
  },
  {
   "cell_type": "markdown",
   "metadata": {},
   "source": [
    "In the `last_seen` column, there are again 48409 entries. The range of dates from the  columns starts on **2016-03-05** and ends on **2016-04-07**. According to this column, the day when most ads were last seen online is **2016-04-06 (2.22%)**."
   ]
  },
  {
   "cell_type": "markdown",
   "metadata": {
    "collapsed": true
   },
   "source": [
    "### Date and time: summary\n",
    "        \n",
    "\n",
    "| Column     | Range of dates | Most frequent day\n",
    "| ----------- | ----------- | ----------- |\n",
    "| **`date_crawled`**   | 2016-03-05 to 2016-04-07   |2016-04-03 (3.86%)|\n",
    "| **`ad_created`**   | 2015-06-11 to 2016-04-07     |2016-04-03 (3.88%)|\n",
    "| **`last_seen`**  | 2016-03-05 to 2016-04-07       |2016-04-06 (2.22%)|\n",
    "\n",
    "### Main conclusions:\n",
    "\n",
    "- `dateCrawled` displays the date the ads were crawled. Ad crawling started in March of 2016 and ended in April of the same year.\n",
    "- Ads created as early as June 2015 are included in this dataset, as we can see in the `ad_created` column.\n",
    "- The `last_seen` column contains the date when the crawler last saw the ad online. The day when most ads were last seen online is 2016-04-06 (2.22%).\n"
   ]
  },
  {
   "cell_type": "markdown",
   "metadata": {},
   "source": [
    "## 6.4 'registration_year'"
   ]
  },
  {
   "cell_type": "code",
   "execution_count": 41,
   "metadata": {
    "scrolled": true
   },
   "outputs": [
    {
     "data": {
      "text/plain": [
       "count    48409.000000\n",
       "mean      2004.774319\n",
       "std         88.783278\n",
       "min       1000.000000\n",
       "25%       1999.000000\n",
       "50%       2004.000000\n",
       "75%       2008.000000\n",
       "max       9999.000000\n",
       "Name: registration_year, dtype: float64"
      ]
     },
     "execution_count": 41,
     "metadata": {},
     "output_type": "execute_result"
    }
   ],
   "source": [
    "clean_autos['registration_year'].describe()"
   ]
  },
  {
   "cell_type": "markdown",
   "metadata": {},
   "source": [
    "As we can see above, the `registration_year` column contains some errors. The maximum value is 9999 and the minimum is 1000, both clearly incorrect. \n",
    "\n",
    "Given that the `registration_year` corresponds to the year in which the car was first registered, we known that cannot be after 2015, the year the first ads were created.\n",
    "As for the earliest acceptable year for car registration, we will accept any year after 1900."
   ]
  },
  {
   "cell_type": "code",
   "execution_count": 42,
   "metadata": {},
   "outputs": [],
   "source": [
    "# remove the rows where the 'registation_year' values are outside the range we have defined\n",
    "\n",
    "clean_autos = clean_autos[clean_autos['registration_year'].between(1900,2015)]"
   ]
  },
  {
   "cell_type": "code",
   "execution_count": 43,
   "metadata": {
    "scrolled": true
   },
   "outputs": [
    {
     "data": {
      "text/plain": [
       "count    45322.000000\n",
       "mean      2002.577291\n",
       "std          6.924648\n",
       "min       1910.000000\n",
       "25%       1999.000000\n",
       "50%       2003.000000\n",
       "75%       2007.000000\n",
       "max       2015.000000\n",
       "Name: registration_year, dtype: float64"
      ]
     },
     "execution_count": 43,
     "metadata": {},
     "output_type": "execute_result"
    }
   ],
   "source": [
    "clean_autos['registration_year'].describe()"
   ]
  },
  {
   "cell_type": "code",
   "execution_count": 44,
   "metadata": {
    "scrolled": true
   },
   "outputs": [
    {
     "data": {
      "text/plain": [
       "2000    0.069017\n",
       "2005    0.064582\n",
       "1999    0.063678\n",
       "2004    0.059574\n",
       "2003    0.059508\n",
       "          ...   \n",
       "1939    0.000022\n",
       "1938    0.000022\n",
       "1927    0.000022\n",
       "1931    0.000022\n",
       "1952    0.000022\n",
       "Name: registration_year, Length: 77, dtype: float64"
      ]
     },
     "execution_count": 44,
     "metadata": {},
     "output_type": "execute_result"
    }
   ],
   "source": [
    "clean_autos['registration_year'].value_counts(normalize=True)"
   ]
  },
  {
   "cell_type": "markdown",
   "metadata": {},
   "source": [
    "As we can see, the minimum value for this column is 1910, so cars on sale were registered as early as that. \n",
    "We can also observe that the year **2000** is the year in which the **highest number of cars were registered (6.9%)**. "
   ]
  },
  {
   "cell_type": "code",
   "execution_count": 45,
   "metadata": {},
   "outputs": [
    {
     "data": {
      "text/plain": [
       "2000    0.069017\n",
       "2005    0.064582\n",
       "1999    0.063678\n",
       "2004    0.059574\n",
       "2003    0.059508\n",
       "2006    0.058912\n",
       "2001    0.058073\n",
       "2002    0.054720\n",
       "1998    0.051895\n",
       "2007    0.050174\n",
       "2008    0.048828\n",
       "2009    0.045960\n",
       "1997    0.042849\n",
       "2011    0.035810\n",
       "2010    0.035060\n",
       "Name: registration_year, dtype: float64"
      ]
     },
     "execution_count": 45,
     "metadata": {},
     "output_type": "execute_result"
    }
   ],
   "source": [
    "# select the top 15 most frequent values \n",
    "\n",
    "clean_autos['registration_year'].value_counts(normalize=True, dropna=False)[0:15]"
   ]
  },
  {
   "cell_type": "code",
   "execution_count": 46,
   "metadata": {},
   "outputs": [
    {
     "data": {
      "text/plain": [
       "0.7986408366797583"
      ]
     },
     "execution_count": 46,
     "metadata": {},
     "output_type": "execute_result"
    }
   ],
   "source": [
    "# add the frequencies of the top 15 most frequent values (excluding the first)\n",
    "\n",
    "sum(clean_autos['registration_year'].value_counts(normalize=True, dropna=False)[0:15])"
   ]
  },
  {
   "cell_type": "markdown",
   "metadata": {},
   "source": [
    "In addition, almost **80%** of all car registrations occured between **1997** and **2011**. We can conclude from this analysis that, at the time of crawling, the majority of cars on sale in this platform were at least more than 5 years old. "
   ]
  },
  {
   "cell_type": "markdown",
   "metadata": {},
   "source": [
    "\n",
    "## 7. Determining `time_online`\n",
    "\n",
    "Using the `last_seen` and `ad_created` columns, we can calculate how long on average an ad remains online until the car is sold. We will name this new variable `time_online`.\n"
   ]
  },
  {
   "cell_type": "code",
   "execution_count": 47,
   "metadata": {},
   "outputs": [],
   "source": [
    "# convert 'ad_created' column to datetime\n",
    "\n",
    "clean_autos['ad_created']=pd.to_datetime(clean_autos['ad_created'])"
   ]
  },
  {
   "cell_type": "code",
   "execution_count": 48,
   "metadata": {},
   "outputs": [],
   "source": [
    "# convert 'last_seen' column to datetime\n",
    "\n",
    "clean_autos['last_seen']=pd.to_datetime(clean_autos['last_seen'])"
   ]
  },
  {
   "cell_type": "code",
   "execution_count": 49,
   "metadata": {
    "scrolled": false
   },
   "outputs": [
    {
     "data": {
      "text/plain": [
       "count                            45322\n",
       "mean     2016-03-20 19:20:18.322235136\n",
       "min                2015-06-11 00:00:00\n",
       "25%                2016-03-13 00:00:00\n",
       "50%                2016-03-21 00:00:00\n",
       "75%                2016-03-29 00:00:00\n",
       "max                2016-04-07 00:00:00\n",
       "Name: ad_created, dtype: object"
      ]
     },
     "execution_count": 49,
     "metadata": {},
     "output_type": "execute_result"
    }
   ],
   "source": [
    "clean_autos['ad_created'].describe(datetime_is_numeric=True)"
   ]
  },
  {
   "cell_type": "code",
   "execution_count": 50,
   "metadata": {},
   "outputs": [
    {
     "data": {
      "text/plain": [
       "count                            45322\n",
       "mean     2016-03-29 18:43:23.133189120\n",
       "min                2016-03-05 00:00:00\n",
       "25%                2016-03-23 00:00:00\n",
       "50%                2016-04-04 00:00:00\n",
       "75%                2016-04-06 00:00:00\n",
       "max                2016-04-07 00:00:00\n",
       "Name: last_seen, dtype: object"
      ]
     },
     "execution_count": 50,
     "metadata": {},
     "output_type": "execute_result"
    }
   ],
   "source": [
    "clean_autos['last_seen'].describe(datetime_is_numeric=True)"
   ]
  },
  {
   "cell_type": "code",
   "execution_count": 51,
   "metadata": {},
   "outputs": [],
   "source": [
    "# create a new column with the time past between `ad_created` and `last_seen``\n",
    "\n",
    "clean_autos['time_online']=clean_autos['last_seen']-clean_autos['ad_created']"
   ]
  },
  {
   "cell_type": "code",
   "execution_count": 52,
   "metadata": {},
   "outputs": [
    {
     "data": {
      "text/plain": [
       "(45322,)"
      ]
     },
     "execution_count": 52,
     "metadata": {},
     "output_type": "execute_result"
    }
   ],
   "source": [
    "clean_autos['time_online'].shape"
   ]
  },
  {
   "cell_type": "code",
   "execution_count": 53,
   "metadata": {},
   "outputs": [
    {
     "data": {
      "text/plain": [
       "0 days      0.137373\n",
       "2 days      0.103327\n",
       "4 days      0.074313\n",
       "1 days      0.056772\n",
       "6 days      0.055889\n",
       "              ...   \n",
       "63 days     0.000022\n",
       "239 days    0.000022\n",
       "109 days    0.000022\n",
       "44 days     0.000022\n",
       "62 days     0.000022\n",
       "Name: time_online, Length: 67, dtype: float64"
      ]
     },
     "execution_count": 53,
     "metadata": {},
     "output_type": "execute_result"
    }
   ],
   "source": [
    "# calculate the distribution of values in percentages \n",
    "\n",
    "clean_autos['time_online'].value_counts(normalize=True, dropna=False)"
   ]
  },
  {
   "cell_type": "code",
   "execution_count": 54,
   "metadata": {},
   "outputs": [
    {
     "data": {
      "text/plain": [
       "0 days      0.137373\n",
       "1 days      0.056772\n",
       "2 days      0.103327\n",
       "3 days      0.049755\n",
       "4 days      0.074313\n",
       "              ...   \n",
       "109 days    0.000022\n",
       "149 days    0.000022\n",
       "209 days    0.000022\n",
       "239 days    0.000022\n",
       "300 days    0.000022\n",
       "Name: time_online, Length: 67, dtype: float64"
      ]
     },
     "execution_count": 54,
     "metadata": {},
     "output_type": "execute_result"
    }
   ],
   "source": [
    "# calculate the distribution of values in percentages and in ascending order\n",
    "\n",
    "clean_autos['time_online'].value_counts(normalize=True, dropna=False).sort_index(ascending=True)"
   ]
  },
  {
   "cell_type": "markdown",
   "metadata": {},
   "source": [
    "According to this result, **13.7%** of ads were online for **less than a day**. It is likely that these ads were removed by the poster not because the car was sold, but because of some error in the description or price or something of that nature. "
   ]
  },
  {
   "cell_type": "code",
   "execution_count": 55,
   "metadata": {},
   "outputs": [
    {
     "data": {
      "text/plain": [
       "2 days     0.103327\n",
       "4 days     0.074313\n",
       "1 days     0.056772\n",
       "6 days     0.055889\n",
       "3 days     0.049755\n",
       "8 days     0.048012\n",
       "9 days     0.036936\n",
       "7 days     0.034001\n",
       "11 days    0.033714\n",
       "5 days     0.033648\n",
       "10 days    0.026499\n",
       "13 days    0.025705\n",
       "12 days    0.024403\n",
       "14 days    0.023344\n",
       "Name: time_online, dtype: float64"
      ]
     },
     "execution_count": 55,
     "metadata": {},
     "output_type": "execute_result"
    }
   ],
   "source": [
    "# select the top 15 most frequent values (excluding the first)\n",
    "\n",
    "clean_autos['time_online'].value_counts(normalize=True, dropna=False)[1:15]"
   ]
  },
  {
   "cell_type": "code",
   "execution_count": 56,
   "metadata": {},
   "outputs": [
    {
     "data": {
      "text/plain": [
       "0.6263183442919554"
      ]
     },
     "execution_count": 56,
     "metadata": {},
     "output_type": "execute_result"
    }
   ],
   "source": [
    "# add the frequencies of the top 15 most frequent values (excluding the first)\n",
    "\n",
    "sum(clean_autos['time_online'].value_counts(normalize=True, dropna=False).sort_index(ascending=True)[1:15])"
   ]
  },
  {
   "cell_type": "markdown",
   "metadata": {},
   "source": [
    "### Main conclusions:\n",
    "\n",
    "If we exclude the '0 days' value from the top 15 most frequent results, we obtain that **62.6%** of the ads are removed up to **14 days** after their creation. We can infer from this that most of the used cars announced in the  *eBay Kleinanzeigen* platform are sold after less than 2 weeks after publishing. "
   ]
  },
  {
   "cell_type": "markdown",
   "metadata": {},
   "source": [
    "## 8. Exploring mean price by brand"
   ]
  },
  {
   "cell_type": "code",
   "execution_count": 57,
   "metadata": {},
   "outputs": [
    {
     "data": {
      "text/plain": [
       "count          45322\n",
       "unique            40\n",
       "top       volkswagen\n",
       "freq            9548\n",
       "Name: brand, dtype: object"
      ]
     },
     "execution_count": 57,
     "metadata": {},
     "output_type": "execute_result"
    }
   ],
   "source": [
    "clean_autos['brand'].describe()"
   ]
  },
  {
   "cell_type": "code",
   "execution_count": 58,
   "metadata": {},
   "outputs": [
    {
     "data": {
      "text/plain": [
       "volkswagen        9548\n",
       "bmw               5034\n",
       "opel              4803\n",
       "mercedes_benz     4411\n",
       "audi              3956\n",
       "ford              3163\n",
       "renault           2109\n",
       "peugeot           1343\n",
       "fiat              1151\n",
       "seat               820\n",
       "skoda              754\n",
       "nissan             692\n",
       "mazda              688\n",
       "smart              643\n",
       "citroen            636\n",
       "toyota             580\n",
       "hyundai            457\n",
       "sonstige_autos     440\n",
       "volvo              419\n",
       "mini               399\n",
       "mitsubishi         370\n",
       "honda              355\n",
       "kia                327\n",
       "alfa_romeo         302\n",
       "porsche            279\n",
       "suzuki             268\n",
       "chevrolet          261\n",
       "chrysler           161\n",
       "dacia              121\n",
       "daihatsu           115\n",
       "jeep               104\n",
       "subaru              97\n",
       "land_rover          96\n",
       "saab                76\n",
       "jaguar              73\n",
       "daewoo              69\n",
       "trabant             65\n",
       "rover               60\n",
       "lancia              50\n",
       "lada                27\n",
       "Name: brand, dtype: int64"
      ]
     },
     "execution_count": 58,
     "metadata": {},
     "output_type": "execute_result"
    }
   ],
   "source": [
    "clean_autos['brand'].value_counts()"
   ]
  },
  {
   "cell_type": "code",
   "execution_count": 59,
   "metadata": {},
   "outputs": [
    {
     "data": {
      "text/plain": [
       "volkswagen        0.210670\n",
       "bmw               0.111072\n",
       "opel              0.105975\n",
       "mercedes_benz     0.097326\n",
       "audi              0.087287\n",
       "ford              0.069790\n",
       "renault           0.046534\n",
       "peugeot           0.029632\n",
       "fiat              0.025396\n",
       "seat              0.018093\n",
       "skoda             0.016637\n",
       "nissan            0.015269\n",
       "mazda             0.015180\n",
       "smart             0.014187\n",
       "citroen           0.014033\n",
       "toyota            0.012797\n",
       "hyundai           0.010083\n",
       "sonstige_autos    0.009708\n",
       "volvo             0.009245\n",
       "mini              0.008804\n",
       "mitsubishi        0.008164\n",
       "honda             0.007833\n",
       "kia               0.007215\n",
       "alfa_romeo        0.006663\n",
       "porsche           0.006156\n",
       "suzuki            0.005913\n",
       "chevrolet         0.005759\n",
       "chrysler          0.003552\n",
       "dacia             0.002670\n",
       "daihatsu          0.002537\n",
       "jeep              0.002295\n",
       "subaru            0.002140\n",
       "land_rover        0.002118\n",
       "saab              0.001677\n",
       "jaguar            0.001611\n",
       "daewoo            0.001522\n",
       "trabant           0.001434\n",
       "rover             0.001324\n",
       "lancia            0.001103\n",
       "lada              0.000596\n",
       "Name: brand, dtype: float64"
      ]
     },
     "execution_count": 59,
     "metadata": {},
     "output_type": "execute_result"
    }
   ],
   "source": [
    "clean_autos['brand'].value_counts(normalize=True)"
   ]
  },
  {
   "cell_type": "markdown",
   "metadata": {},
   "source": [
    "We will start by selecting the top 10 most common brands. "
   ]
  },
  {
   "cell_type": "code",
   "execution_count": 60,
   "metadata": {},
   "outputs": [
    {
     "name": "stdout",
     "output_type": "stream",
     "text": [
      "Index(['volkswagen', 'bmw', 'opel', 'mercedes_benz', 'audi', 'ford', 'renault',\n",
      "       'peugeot', 'fiat', 'seat'],\n",
      "      dtype='object')\n"
     ]
    }
   ],
   "source": [
    "# select the top 10 brands\n",
    "\n",
    "top_ten_brands=clean_autos['brand'].value_counts().index[0:10]\n",
    "print(top_ten_brands)"
   ]
  },
  {
   "cell_type": "code",
   "execution_count": 61,
   "metadata": {},
   "outputs": [],
   "source": [
    "# create an empty dictionary to hold the mean price for each brand\n",
    "\n",
    "mean_price_brand={}\n",
    "\n",
    "# loop over each top 10 brand and retrieve the mean price\n",
    "\n",
    "for b in top_ten_brands:\n",
    "    brand_rows=clean_autos[clean_autos['brand']==b]\n",
    "    mean_price=brand_rows['price_dollars'].mean()\n",
    "    mean_price_brand[b]=mean_price"
   ]
  },
  {
   "cell_type": "code",
   "execution_count": 62,
   "metadata": {},
   "outputs": [
    {
     "data": {
      "text/plain": [
       "{'volkswagen': 5493.5633640553,\n",
       " 'bmw': 8431.807310290027,\n",
       " 'opel': 3029.383302102852,\n",
       " 'mercedes_benz': 8739.202448424394,\n",
       " 'audi': 9373.358442871588,\n",
       " 'ford': 3824.3386025924756,\n",
       " 'renault': 2500.814129919393,\n",
       " 'peugeot': 3137.9471332836933,\n",
       " 'fiat': 2866.012163336229,\n",
       " 'seat': 4439.796341463415}"
      ]
     },
     "execution_count": 62,
     "metadata": {},
     "output_type": "execute_result"
    }
   ],
   "source": [
    "mean_price_brand"
   ]
  },
  {
   "cell_type": "markdown",
   "metadata": {},
   "source": [
    "### Main conclusions:\n",
    "\n",
    "Among the top 10 most common brands, there are 3 **luxury brands**: `audi`, `mercedes_benz` and `bmw`. Used cars on sale by these brands have higher prices, costing on average around **9000 dollars**. \n",
    "\n",
    "The remaining brands are more affordable, and their mean prices range between 2500 to 5500 dollars. \n",
    "\n",
    "`fiat` and `renault` are the **cheapest brands** on average, with prices below **3000 dollars.** `volkswagen` and `seat` are **middle-range brands**, with mean prices closer to **5000 dollars**. "
   ]
  },
  {
   "cell_type": "markdown",
   "metadata": {},
   "source": [
    "## 9. Exploring mean price and average mileage "
   ]
  },
  {
   "cell_type": "code",
   "execution_count": 63,
   "metadata": {},
   "outputs": [],
   "source": [
    "# create an empty dictionary to hold the mean mileage for each brand\n",
    "\n",
    "mean_miles_brand={}\n",
    "\n",
    "# loop over each top 10 brand and retrieve the mean price\n",
    "\n",
    "for b in top_ten_brands:\n",
    "    brand_rows=clean_autos[clean_autos['brand']==b]\n",
    "    mean_miles=brand_rows['odometer_km'].mean()\n",
    "    mean_miles_brand[b]=mean_miles"
   ]
  },
  {
   "cell_type": "code",
   "execution_count": 64,
   "metadata": {},
   "outputs": [
    {
     "data": {
      "text/plain": [
       "{'volkswagen': 128441.55844155845,\n",
       " 'bmw': 132446.36471990464,\n",
       " 'opel': 129244.22236102435,\n",
       " 'mercedes_benz': 130671.04964860575,\n",
       " 'audi': 129246.71385237614,\n",
       " 'ford': 123951.94435662345,\n",
       " 'renault': 128013.27643432906,\n",
       " 'peugeot': 127081.16157855547,\n",
       " 'fiat': 116589.92180712424,\n",
       " 'seat': 120865.85365853658}"
      ]
     },
     "execution_count": 64,
     "metadata": {},
     "output_type": "execute_result"
    }
   ],
   "source": [
    "mean_miles_brand"
   ]
  },
  {
   "cell_type": "code",
   "execution_count": 65,
   "metadata": {},
   "outputs": [],
   "source": [
    "# convert the mean prices dictionary to a series object, using the series constructor\n",
    "\n",
    "price_series=pd.Series(data=mean_price_brand)"
   ]
  },
  {
   "cell_type": "code",
   "execution_count": 66,
   "metadata": {},
   "outputs": [],
   "source": [
    "# convert the mean mileage dictionary to a series object, using the series constructor\n",
    "\n",
    "miles_series=pd.Series(data=mean_miles_brand)"
   ]
  },
  {
   "cell_type": "code",
   "execution_count": 67,
   "metadata": {},
   "outputs": [
    {
     "data": {
      "text/plain": [
       "volkswagen       5493.563364\n",
       "bmw              8431.807310\n",
       "opel             3029.383302\n",
       "mercedes_benz    8739.202448\n",
       "audi             9373.358443\n",
       "ford             3824.338603\n",
       "renault          2500.814130\n",
       "peugeot          3137.947133\n",
       "fiat             2866.012163\n",
       "seat             4439.796341\n",
       "dtype: float64"
      ]
     },
     "execution_count": 67,
     "metadata": {},
     "output_type": "execute_result"
    }
   ],
   "source": [
    "price_series"
   ]
  },
  {
   "cell_type": "code",
   "execution_count": 68,
   "metadata": {},
   "outputs": [],
   "source": [
    "# create a dataframe from the price series using the dataframe constructor\n",
    "\n",
    "price_miles_dataframe=pd.DataFrame(price_series, columns=['mean_price'])"
   ]
  },
  {
   "cell_type": "code",
   "execution_count": 69,
   "metadata": {},
   "outputs": [
    {
     "data": {
      "text/html": [
       "<div>\n",
       "<style scoped>\n",
       "    .dataframe tbody tr th:only-of-type {\n",
       "        vertical-align: middle;\n",
       "    }\n",
       "\n",
       "    .dataframe tbody tr th {\n",
       "        vertical-align: top;\n",
       "    }\n",
       "\n",
       "    .dataframe thead th {\n",
       "        text-align: right;\n",
       "    }\n",
       "</style>\n",
       "<table border=\"1\" class=\"dataframe\">\n",
       "  <thead>\n",
       "    <tr style=\"text-align: right;\">\n",
       "      <th></th>\n",
       "      <th>mean_price</th>\n",
       "    </tr>\n",
       "  </thead>\n",
       "  <tbody>\n",
       "    <tr>\n",
       "      <th>volkswagen</th>\n",
       "      <td>5493.563364</td>\n",
       "    </tr>\n",
       "    <tr>\n",
       "      <th>bmw</th>\n",
       "      <td>8431.807310</td>\n",
       "    </tr>\n",
       "    <tr>\n",
       "      <th>opel</th>\n",
       "      <td>3029.383302</td>\n",
       "    </tr>\n",
       "    <tr>\n",
       "      <th>mercedes_benz</th>\n",
       "      <td>8739.202448</td>\n",
       "    </tr>\n",
       "    <tr>\n",
       "      <th>audi</th>\n",
       "      <td>9373.358443</td>\n",
       "    </tr>\n",
       "    <tr>\n",
       "      <th>ford</th>\n",
       "      <td>3824.338603</td>\n",
       "    </tr>\n",
       "    <tr>\n",
       "      <th>renault</th>\n",
       "      <td>2500.814130</td>\n",
       "    </tr>\n",
       "    <tr>\n",
       "      <th>peugeot</th>\n",
       "      <td>3137.947133</td>\n",
       "    </tr>\n",
       "    <tr>\n",
       "      <th>fiat</th>\n",
       "      <td>2866.012163</td>\n",
       "    </tr>\n",
       "    <tr>\n",
       "      <th>seat</th>\n",
       "      <td>4439.796341</td>\n",
       "    </tr>\n",
       "  </tbody>\n",
       "</table>\n",
       "</div>"
      ],
      "text/plain": [
       "                mean_price\n",
       "volkswagen     5493.563364\n",
       "bmw            8431.807310\n",
       "opel           3029.383302\n",
       "mercedes_benz  8739.202448\n",
       "audi           9373.358443\n",
       "ford           3824.338603\n",
       "renault        2500.814130\n",
       "peugeot        3137.947133\n",
       "fiat           2866.012163\n",
       "seat           4439.796341"
      ]
     },
     "execution_count": 69,
     "metadata": {},
     "output_type": "execute_result"
    }
   ],
   "source": [
    "price_miles_dataframe"
   ]
  },
  {
   "cell_type": "code",
   "execution_count": 70,
   "metadata": {},
   "outputs": [],
   "source": [
    "# add the mileage series as a new column in the new dataframe\n",
    "\n",
    "price_miles_dataframe['mean_mileage']=miles_series"
   ]
  },
  {
   "cell_type": "code",
   "execution_count": 71,
   "metadata": {},
   "outputs": [
    {
     "data": {
      "text/html": [
       "<div>\n",
       "<style scoped>\n",
       "    .dataframe tbody tr th:only-of-type {\n",
       "        vertical-align: middle;\n",
       "    }\n",
       "\n",
       "    .dataframe tbody tr th {\n",
       "        vertical-align: top;\n",
       "    }\n",
       "\n",
       "    .dataframe thead th {\n",
       "        text-align: right;\n",
       "    }\n",
       "</style>\n",
       "<table border=\"1\" class=\"dataframe\">\n",
       "  <thead>\n",
       "    <tr style=\"text-align: right;\">\n",
       "      <th></th>\n",
       "      <th>mean_price</th>\n",
       "      <th>mean_mileage</th>\n",
       "    </tr>\n",
       "  </thead>\n",
       "  <tbody>\n",
       "    <tr>\n",
       "      <th>volkswagen</th>\n",
       "      <td>5493.563364</td>\n",
       "      <td>128441.558442</td>\n",
       "    </tr>\n",
       "    <tr>\n",
       "      <th>bmw</th>\n",
       "      <td>8431.807310</td>\n",
       "      <td>132446.364720</td>\n",
       "    </tr>\n",
       "    <tr>\n",
       "      <th>opel</th>\n",
       "      <td>3029.383302</td>\n",
       "      <td>129244.222361</td>\n",
       "    </tr>\n",
       "    <tr>\n",
       "      <th>mercedes_benz</th>\n",
       "      <td>8739.202448</td>\n",
       "      <td>130671.049649</td>\n",
       "    </tr>\n",
       "    <tr>\n",
       "      <th>audi</th>\n",
       "      <td>9373.358443</td>\n",
       "      <td>129246.713852</td>\n",
       "    </tr>\n",
       "    <tr>\n",
       "      <th>ford</th>\n",
       "      <td>3824.338603</td>\n",
       "      <td>123951.944357</td>\n",
       "    </tr>\n",
       "    <tr>\n",
       "      <th>renault</th>\n",
       "      <td>2500.814130</td>\n",
       "      <td>128013.276434</td>\n",
       "    </tr>\n",
       "    <tr>\n",
       "      <th>peugeot</th>\n",
       "      <td>3137.947133</td>\n",
       "      <td>127081.161579</td>\n",
       "    </tr>\n",
       "    <tr>\n",
       "      <th>fiat</th>\n",
       "      <td>2866.012163</td>\n",
       "      <td>116589.921807</td>\n",
       "    </tr>\n",
       "    <tr>\n",
       "      <th>seat</th>\n",
       "      <td>4439.796341</td>\n",
       "      <td>120865.853659</td>\n",
       "    </tr>\n",
       "  </tbody>\n",
       "</table>\n",
       "</div>"
      ],
      "text/plain": [
       "                mean_price   mean_mileage\n",
       "volkswagen     5493.563364  128441.558442\n",
       "bmw            8431.807310  132446.364720\n",
       "opel           3029.383302  129244.222361\n",
       "mercedes_benz  8739.202448  130671.049649\n",
       "audi           9373.358443  129246.713852\n",
       "ford           3824.338603  123951.944357\n",
       "renault        2500.814130  128013.276434\n",
       "peugeot        3137.947133  127081.161579\n",
       "fiat           2866.012163  116589.921807\n",
       "seat           4439.796341  120865.853659"
      ]
     },
     "execution_count": 71,
     "metadata": {},
     "output_type": "execute_result"
    }
   ],
   "source": [
    "price_miles_dataframe"
   ]
  },
  {
   "cell_type": "code",
   "execution_count": 72,
   "metadata": {},
   "outputs": [
    {
     "data": {
      "text/plain": [
       "count        10.000000\n",
       "mean     126655.206686\n",
       "std        4835.453060\n",
       "min      116589.921807\n",
       "25%      124734.248662\n",
       "50%      128227.417438\n",
       "75%      129246.090980\n",
       "max      132446.364720\n",
       "Name: mean_mileage, dtype: float64"
      ]
     },
     "execution_count": 72,
     "metadata": {},
     "output_type": "execute_result"
    }
   ],
   "source": [
    "price_miles_dataframe['mean_mileage'].describe()"
   ]
  },
  {
   "cell_type": "markdown",
   "metadata": {},
   "source": [
    "### Main conclusions:\n",
    "\n",
    "- There are no drastic differences in the average mileage between the top 10 brands. All brands display a **mean mileage over 110000 km**, and the standard deviation of the series is below 5000 km.\n",
    "- The brand with the highest average mileage is `mercedes_benz` (**132446.4 km**) and the one with the lowest is `fiat` (**116589.9 km**). The 15856.5 km difference does not seem to justify the difference in mean prices, considering that `mercedes_benz` cars are 204.9% more expensive on average than `fiat` cars.\n",
    "- Similarly, we can see that `opel` cars have almost exactly the same mean mileage as `audi` cars, while their average price is 67.7% cheaper.\n",
    "- Therefore, we can conclude that the **average mileage of cars produced by the top 10 brands is not likely to influence the cars' average price**."
   ]
  },
  {
   "cell_type": "markdown",
   "metadata": {},
   "source": [
    "## 10. Final summary\n",
    "\n",
    "We performed several **data cleaning tasks** before analyzing the dataset, such as:\n",
    "- removing 3 irrelevant columns (`seller`, `offer_type`, and `nr_of_pictures`) that added no valuable information;\n",
    "- excluding unreasonable entries in the `odometer_km`, `price_dollars` and `registration_year` columns, which we categorized as outliers.\n",
    "    \n",
    "\n",
    "Regarding the analysis of the data, we have determined that:\n",
    "- at the time of crawling, the majority of cars on sale in the *eBay Kleinanzeigen* platform were at least **more than 5 years old**;\n",
    "- most of the used cars announced in the crawled ads were sold after **less than 2 weeks** after publishing;\n",
    "- Among the top 10 most common brands, there were 3 **luxury brands** (`audi`, `mercedes_benz` and `bmw`, average price ~9000 dollars), **middle-range brands** (`volkswagen` and `seat`, average price ~5000 dollars) and **cheaper brands** (`fiat` and `renault`, average price ~3000 dollars);\n",
    "- The mean mileage of cars produced by the top 10 brands **does not strongly correlate** with the average price and it is unlikely to influence the cars' price.\n"
   ]
  }
 ],
 "metadata": {
  "kernelspec": {
   "display_name": "Python 3",
   "language": "python",
   "name": "python3"
  },
  "language_info": {
   "codemirror_mode": {
    "name": "ipython",
    "version": 3
   },
   "file_extension": ".py",
   "mimetype": "text/x-python",
   "name": "python",
   "nbconvert_exporter": "python",
   "pygments_lexer": "ipython3",
   "version": "3.8.5"
  }
 },
 "nbformat": 4,
 "nbformat_minor": 2
}
